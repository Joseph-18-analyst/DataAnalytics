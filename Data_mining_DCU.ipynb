{
 "cells": [
  {
   "cell_type": "code",
   "execution_count": 1,
   "metadata": {
    "scrolled": true
   },
   "outputs": [
    {
     "name": "stdout",
     "output_type": "stream",
     "text": [
      "Requirement already satisfied: xgboost in d:\\users\\user\\appdata\\local\\programs\\python\\python38\\lib\\site-packages (1.0.2)\n",
      "Requirement already satisfied: scipy in d:\\users\\user\\appdata\\local\\programs\\python\\python38\\lib\\site-packages (from xgboost) (1.4.1)\n",
      "Requirement already satisfied: numpy in d:\\users\\user\\appdata\\local\\programs\\python\\python38\\lib\\site-packages (from xgboost) (1.18.3)\n"
     ]
    }
   ],
   "source": [
    "!pip install xgboost"
   ]
  },
  {
   "cell_type": "code",
   "execution_count": 2,
   "metadata": {},
   "outputs": [],
   "source": [
    "import numpy as np\n",
    "import pandas as pd\n",
    "from datetime import datetime as dt\n",
    "import itertools\n",
    "import csv\n",
    "import sys\n",
    "%matplotlib inline\n",
    "import matplotlib.pyplot as plt\n",
    "import seaborn as sns\n",
    "from pandas.plotting import scatter_matrix\n",
    "from sklearn.model_selection import train_test_split\n",
    "from sklearn.preprocessing import scale\n",
    "from sklearn.linear_model import LogisticRegression\n",
    "from sklearn.svm import SVC\n",
    "import xgboost as xgb\n",
    "from sklearn.linear_model import LinearRegression"
   ]
  },
  {
   "cell_type": "code",
   "execution_count": 3,
   "metadata": {},
   "outputs": [],
   "source": [
    "#Data merging from small csv files.\n",
    "\n",
    "loc = \"\"\n",
    "filename = \"\"\n",
    "all_seasons = [0]*50\n",
    "for i in range(20):\n",
    "    if(i<9):\n",
    "        filename = 'EPL_200'+str(i)+'-200'+str(i+1)+'.csv'\n",
    "    elif(i==9):\n",
    "        filename = 'EPL_200'+str(i)+'-20'+str(i+1)+'.csv'\n",
    "    else:\n",
    "        filename = 'EPL_20'+str(i)+'-20'+str(i+1)+'.csv'\n",
    "    all_seasons[i] = pd.read_csv(loc + filename, usecols = ['Date','HomeTeam','AwayTeam','FTHG','FTAG','FTR','HTHG','HTAG',\n",
    "                                                            'HS', 'AS', 'HST', 'AST', 'HC', 'AC', 'HF', 'AF', 'HY', \n",
    "                                                            'AY', 'HR' ,'AR'])\n",
    "\n",
    "j = 20\n",
    "for i in range(5, 20):\n",
    "    if(i<9):\n",
    "        filename = 'LaLiga_200'+str(i)+'-200'+str(i+1)+'.csv'\n",
    "    elif(i==9):\n",
    "        filename = 'LaLiga_200'+str(i)+'-20'+str(i+1)+'.csv'\n",
    "    else:\n",
    "        filename = 'LaLiga_20'+str(i)+'-20'+str(i+1)+'.csv'\n",
    "    all_seasons[j] = pd.read_csv(loc + filename, usecols = ['Date','HomeTeam','AwayTeam','FTHG','FTAG','FTR','HTHG','HTAG',\n",
    "                                                            'HS', 'AS', 'HST', 'AST', 'HC', 'AC', 'HF', 'AF', 'HY', \n",
    "                                                            'AY', 'HR' ,'AR'])\n",
    "    j += 1\n",
    "\n",
    "for i in range(5, 20):\n",
    "    if(i<9):\n",
    "        filename = 'LeChamp_200'+str(i)+'-200'+str(i+1)+'.csv'\n",
    "    elif(i==9):\n",
    "        filename = 'LeChamp_200'+str(i)+'-20'+str(i+1)+'.csv'\n",
    "    else:\n",
    "        filename = 'LeChamp_20'+str(i)+'-20'+str(i+1)+'.csv'\n",
    "    all_seasons[j] = pd.read_csv(loc + filename, usecols = ['Date','HomeTeam','AwayTeam','FTHG','FTAG','FTR','HTHG','HTAG',\n",
    "                                                            'HS', 'AS', 'HST', 'AST', 'HC', 'AC', 'HF', 'AF', 'HY', \n",
    "                                                            'AY', 'HR' ,'AR'])\n",
    "    j += 1\n",
    "\n",
    "data_set = pd.concat([all_seasons[0], all_seasons[1], all_seasons[2], all_seasons[3], all_seasons[4], all_seasons[5], all_seasons[6]\n",
    "                               , all_seasons[7], all_seasons[8], all_seasons[9], all_seasons[10], all_seasons[11], all_seasons[12], all_seasons[13]\n",
    "                               , all_seasons[14], all_seasons[15], all_seasons[16], all_seasons[17], all_seasons[18], all_seasons[19], all_seasons[20]\n",
    "                               , all_seasons[21], all_seasons[22], all_seasons[23], all_seasons[24], all_seasons[25], all_seasons[26], all_seasons[27]\n",
    "                               , all_seasons[28], all_seasons[29], all_seasons[30], all_seasons[31], all_seasons[32], all_seasons[33], all_seasons[34],\n",
    "                           all_seasons[35], all_seasons[36], all_seasons[37], all_seasons[38], all_seasons[39], all_seasons[40], all_seasons[41], \n",
    "                            all_seasons[42], all_seasons[43], all_seasons[44], all_seasons[45], all_seasons[46], all_seasons[47], all_seasons[48], \n",
    "                            all_seasons[49]], axis=0, join='outer', ignore_index=True, sort=False)"
   ]
  },
  {
   "cell_type": "code",
   "execution_count": 4,
   "metadata": {},
   "outputs": [],
   "source": [
    "data_set.columns = ['Date','HomeTeam','AwayTeam', 'FullTime_HT_Goal', 'FullTime_AT_Goal', 'FullTime_Res', 'HalfTime_HT_Goal',\n",
    "                                 'HalfTime_AT_Goal', 'HT_Shots', 'AT_Shots', 'HT_Shots_Target', 'AT_Shots_Target',\n",
    "                                 'HT_Corner', 'AT_Corner', 'HT_Fouls', 'AT_Fouls', 'HT_Yellow_Cards',\n",
    "                                 'AT_Yellow_Cards', 'HT_Red_Cards', 'AT_Red_Cards']"
   ]
  },
  {
   "cell_type": "code",
   "execution_count": 5,
   "metadata": {},
   "outputs": [
    {
     "data": {
      "text/html": [
       "<div>\n",
       "<style scoped>\n",
       "    .dataframe tbody tr th:only-of-type {\n",
       "        vertical-align: middle;\n",
       "    }\n",
       "\n",
       "    .dataframe tbody tr th {\n",
       "        vertical-align: top;\n",
       "    }\n",
       "\n",
       "    .dataframe thead th {\n",
       "        text-align: right;\n",
       "    }\n",
       "</style>\n",
       "<table border=\"1\" class=\"dataframe\">\n",
       "  <thead>\n",
       "    <tr style=\"text-align: right;\">\n",
       "      <th></th>\n",
       "      <th>Date</th>\n",
       "      <th>HomeTeam</th>\n",
       "      <th>AwayTeam</th>\n",
       "      <th>FullTime_HT_Goal</th>\n",
       "      <th>FullTime_AT_Goal</th>\n",
       "      <th>FullTime_Res</th>\n",
       "      <th>HalfTime_HT_Goal</th>\n",
       "      <th>HalfTime_AT_Goal</th>\n",
       "      <th>HT_Shots</th>\n",
       "      <th>AT_Shots</th>\n",
       "      <th>HT_Shots_Target</th>\n",
       "      <th>AT_Shots_Target</th>\n",
       "      <th>HT_Corner</th>\n",
       "      <th>AT_Corner</th>\n",
       "      <th>HT_Fouls</th>\n",
       "      <th>AT_Fouls</th>\n",
       "      <th>HT_Yellow_Cards</th>\n",
       "      <th>AT_Yellow_Cards</th>\n",
       "      <th>HT_Red_Cards</th>\n",
       "      <th>AT_Red_Cards</th>\n",
       "    </tr>\n",
       "  </thead>\n",
       "  <tbody>\n",
       "    <tr>\n",
       "      <th>0</th>\n",
       "      <td>19/08/00</td>\n",
       "      <td>Charlton</td>\n",
       "      <td>Man City</td>\n",
       "      <td>4.0</td>\n",
       "      <td>0.0</td>\n",
       "      <td>H</td>\n",
       "      <td>2.0</td>\n",
       "      <td>0.0</td>\n",
       "      <td>17.0</td>\n",
       "      <td>8.0</td>\n",
       "      <td>14.0</td>\n",
       "      <td>4.0</td>\n",
       "      <td>6.0</td>\n",
       "      <td>6.0</td>\n",
       "      <td>13.0</td>\n",
       "      <td>12.0</td>\n",
       "      <td>1.0</td>\n",
       "      <td>2.0</td>\n",
       "      <td>0.0</td>\n",
       "      <td>0.0</td>\n",
       "    </tr>\n",
       "    <tr>\n",
       "      <th>1</th>\n",
       "      <td>19/08/00</td>\n",
       "      <td>Chelsea</td>\n",
       "      <td>West Ham</td>\n",
       "      <td>4.0</td>\n",
       "      <td>2.0</td>\n",
       "      <td>H</td>\n",
       "      <td>1.0</td>\n",
       "      <td>0.0</td>\n",
       "      <td>17.0</td>\n",
       "      <td>12.0</td>\n",
       "      <td>10.0</td>\n",
       "      <td>5.0</td>\n",
       "      <td>7.0</td>\n",
       "      <td>7.0</td>\n",
       "      <td>19.0</td>\n",
       "      <td>14.0</td>\n",
       "      <td>1.0</td>\n",
       "      <td>2.0</td>\n",
       "      <td>0.0</td>\n",
       "      <td>0.0</td>\n",
       "    </tr>\n",
       "    <tr>\n",
       "      <th>2</th>\n",
       "      <td>19/08/00</td>\n",
       "      <td>Coventry</td>\n",
       "      <td>Middlesbrough</td>\n",
       "      <td>1.0</td>\n",
       "      <td>3.0</td>\n",
       "      <td>A</td>\n",
       "      <td>1.0</td>\n",
       "      <td>1.0</td>\n",
       "      <td>6.0</td>\n",
       "      <td>16.0</td>\n",
       "      <td>3.0</td>\n",
       "      <td>9.0</td>\n",
       "      <td>8.0</td>\n",
       "      <td>4.0</td>\n",
       "      <td>15.0</td>\n",
       "      <td>21.0</td>\n",
       "      <td>5.0</td>\n",
       "      <td>3.0</td>\n",
       "      <td>1.0</td>\n",
       "      <td>0.0</td>\n",
       "    </tr>\n",
       "    <tr>\n",
       "      <th>3</th>\n",
       "      <td>19/08/00</td>\n",
       "      <td>Derby</td>\n",
       "      <td>Southampton</td>\n",
       "      <td>2.0</td>\n",
       "      <td>2.0</td>\n",
       "      <td>D</td>\n",
       "      <td>1.0</td>\n",
       "      <td>2.0</td>\n",
       "      <td>6.0</td>\n",
       "      <td>13.0</td>\n",
       "      <td>4.0</td>\n",
       "      <td>6.0</td>\n",
       "      <td>5.0</td>\n",
       "      <td>8.0</td>\n",
       "      <td>11.0</td>\n",
       "      <td>13.0</td>\n",
       "      <td>1.0</td>\n",
       "      <td>1.0</td>\n",
       "      <td>0.0</td>\n",
       "      <td>0.0</td>\n",
       "    </tr>\n",
       "    <tr>\n",
       "      <th>4</th>\n",
       "      <td>19/08/00</td>\n",
       "      <td>Leeds</td>\n",
       "      <td>Everton</td>\n",
       "      <td>2.0</td>\n",
       "      <td>0.0</td>\n",
       "      <td>H</td>\n",
       "      <td>2.0</td>\n",
       "      <td>0.0</td>\n",
       "      <td>17.0</td>\n",
       "      <td>12.0</td>\n",
       "      <td>8.0</td>\n",
       "      <td>6.0</td>\n",
       "      <td>6.0</td>\n",
       "      <td>4.0</td>\n",
       "      <td>21.0</td>\n",
       "      <td>20.0</td>\n",
       "      <td>1.0</td>\n",
       "      <td>3.0</td>\n",
       "      <td>0.0</td>\n",
       "      <td>0.0</td>\n",
       "    </tr>\n",
       "  </tbody>\n",
       "</table>\n",
       "</div>"
      ],
      "text/plain": [
       "       Date  HomeTeam       AwayTeam  FullTime_HT_Goal  FullTime_AT_Goal  \\\n",
       "0  19/08/00  Charlton       Man City               4.0               0.0   \n",
       "1  19/08/00   Chelsea       West Ham               4.0               2.0   \n",
       "2  19/08/00  Coventry  Middlesbrough               1.0               3.0   \n",
       "3  19/08/00     Derby    Southampton               2.0               2.0   \n",
       "4  19/08/00     Leeds        Everton               2.0               0.0   \n",
       "\n",
       "  FullTime_Res  HalfTime_HT_Goal  HalfTime_AT_Goal  HT_Shots  AT_Shots  \\\n",
       "0            H               2.0               0.0      17.0       8.0   \n",
       "1            H               1.0               0.0      17.0      12.0   \n",
       "2            A               1.0               1.0       6.0      16.0   \n",
       "3            D               1.0               2.0       6.0      13.0   \n",
       "4            H               2.0               0.0      17.0      12.0   \n",
       "\n",
       "   HT_Shots_Target  AT_Shots_Target  HT_Corner  AT_Corner  HT_Fouls  AT_Fouls  \\\n",
       "0             14.0              4.0        6.0        6.0      13.0      12.0   \n",
       "1             10.0              5.0        7.0        7.0      19.0      14.0   \n",
       "2              3.0              9.0        8.0        4.0      15.0      21.0   \n",
       "3              4.0              6.0        5.0        8.0      11.0      13.0   \n",
       "4              8.0              6.0        6.0        4.0      21.0      20.0   \n",
       "\n",
       "   HT_Yellow_Cards  AT_Yellow_Cards  HT_Red_Cards  AT_Red_Cards  \n",
       "0              1.0              2.0           0.0           0.0  \n",
       "1              1.0              2.0           0.0           0.0  \n",
       "2              5.0              3.0           1.0           0.0  \n",
       "3              1.0              1.0           0.0           0.0  \n",
       "4              1.0              3.0           0.0           0.0  "
      ]
     },
     "execution_count": 5,
     "metadata": {},
     "output_type": "execute_result"
    }
   ],
   "source": [
    "data_set.head()"
   ]
  },
  {
   "cell_type": "code",
   "execution_count": 6,
   "metadata": {},
   "outputs": [
    {
     "data": {
      "text/plain": [
       "(18700, 20)"
      ]
     },
     "execution_count": 6,
     "metadata": {},
     "output_type": "execute_result"
    }
   ],
   "source": [
    "data_set.shape"
   ]
  },
  {
   "cell_type": "code",
   "execution_count": 7,
   "metadata": {},
   "outputs": [
    {
     "name": "stdout",
     "output_type": "stream",
     "text": [
      "Total rows with Null values are :  7\n"
     ]
    }
   ],
   "source": [
    "#Calculations for rows with minimum 1 Null value-\n",
    "\n",
    "Total_row_wd_null = 0\n",
    "for i in range(len(data_set.index)) :\n",
    "        if data_set.iloc[i].isnull().sum() != 0:\n",
    "            Total_row_wd_null +=1\n",
    "print('Total rows with Null values are : ', Total_row_wd_null)"
   ]
  },
  {
   "cell_type": "code",
   "execution_count": 8,
   "metadata": {},
   "outputs": [],
   "source": [
    "#Dropping rows with minimum 1 Null value-\n",
    "\n",
    "final_data_set = data_set.dropna(axis = 0, how ='any')"
   ]
  },
  {
   "cell_type": "code",
   "execution_count": 9,
   "metadata": {},
   "outputs": [
    {
     "data": {
      "text/plain": [
       "(18693, 20)"
      ]
     },
     "execution_count": 9,
     "metadata": {},
     "output_type": "execute_result"
    }
   ],
   "source": [
    "#Final cleaned dataset dimensions-\n",
    "\n",
    "final_data_set.shape"
   ]
  },
  {
   "cell_type": "code",
   "execution_count": 10,
   "metadata": {},
   "outputs": [
    {
     "name": "stdout",
     "output_type": "stream",
     "text": [
      "Total number of teams in dataset are :  122\n",
      "Total number of matches taken into account for analysis:  18693\n"
     ]
    }
   ],
   "source": [
    "#Total number of teams in dataset-\n",
    "\n",
    "total_teams = final_data_set.HomeTeam.unique()\n",
    "print(\"Total number of teams in dataset are : \", len(total_teams))\n",
    "print(\"Total number of matches taken into account for analysis: \", final_data_set.shape[0])"
   ]
  },
  {
   "cell_type": "code",
   "execution_count": 11,
   "metadata": {},
   "outputs": [
    {
     "data": {
      "text/plain": [
       "Text(0.5, 1.0, 'HomeTeam & AwayTeam goals density plot')"
      ]
     },
     "execution_count": 11,
     "metadata": {},
     "output_type": "execute_result"
    },
    {
     "data": {
      "image/png": "[encoded data removed]",
      "text/plain": [
       "<Figure size 432x288 with 1 Axes>"
      ]
     },
     "metadata": {
      "needs_background": "light"
     },
     "output_type": "display_data"
    }
   ],
   "source": [
    "# Density plot on total 'Full Time Home Team goals' and 'Full time Away Team goals'-\n",
    "\n",
    "for label in ['FullTime_HT_Goal', 'FullTime_AT_Goal']:\n",
    "  sns.distplot(final_data_set[label], hist=False, label=label)\n",
    "plt.xlabel('Goals')\n",
    "plt.title('HomeTeam & AwayTeam goals density plot')"
   ]
  },
  {
   "cell_type": "code",
   "execution_count": 12,
   "metadata": {},
   "outputs": [
    {
     "name": "stdout",
     "output_type": "stream",
     "text": [
      "Average number of goals scored at home 1.505750815813406\n",
      "Average number of goals scored away 1.1054405392392874\n",
      "Average number of goals conceded at home 1.1054405392392874\n",
      "Average number of goals conceded away 1.505750815813406\n"
     ]
    }
   ],
   "source": [
    "#Calculations to get the mean of Home and Away team goals scored and conceded-\n",
    "\n",
    "hometeam_goal_scored_mean = final_data_set.FullTime_HT_Goal.sum()*1.0 / final_data_set.shape[0]\n",
    "awayteam_goal_scored_mean = final_data_set.FullTime_AT_Goal.sum()*1.0 / final_data_set.shape[0]\n",
    "hometeam_goal_conceded_mean = awayteam_goal_scored_mean\n",
    "awayteam_goal_conceded_mean = hometeam_goal_scored_mean\n",
    "print(\"Average number of goals scored at home\",hometeam_goal_scored_mean)\n",
    "print(\"Average number of goals scored away\", awayteam_goal_scored_mean)\n",
    "print(\"Average number of goals conceded at home\", hometeam_goal_conceded_mean)\n",
    "print(\"Average number of goals conceded away\", awayteam_goal_conceded_mean)"
   ]
  },
  {
   "cell_type": "code",
   "execution_count": 13,
   "metadata": {},
   "outputs": [],
   "source": [
    "#Grouping all the teams from both 'HomeTeam' and 'AwayTeam', to evaluate their respective performance as /\n",
    "#'HomeTeam' and 'AwayTeam'.\n",
    "\n",
    "hometeam_performance = final_data_set.groupby('HomeTeam')\n",
    "awayteam_performance = final_data_set.groupby('AwayTeam')"
   ]
  },
  {
   "cell_type": "code",
   "execution_count": 14,
   "metadata": {},
   "outputs": [],
   "source": [
    "\n",
    "col_list2 = ['HomeTeam', 'AwayTeam']\n",
    "data_prep = final_data_set[col_list2]"
   ]
  },
  {
   "cell_type": "code",
   "execution_count": 15,
   "metadata": {},
   "outputs": [
    {
     "data": {
      "text/html": [
       "<div>\n",
       "<style scoped>\n",
       "    .dataframe tbody tr th:only-of-type {\n",
       "        vertical-align: middle;\n",
       "    }\n",
       "\n",
       "    .dataframe tbody tr th {\n",
       "        vertical-align: top;\n",
       "    }\n",
       "\n",
       "    .dataframe thead th {\n",
       "        text-align: right;\n",
       "    }\n",
       "</style>\n",
       "<table border=\"1\" class=\"dataframe\">\n",
       "  <thead>\n",
       "    <tr style=\"text-align: right;\">\n",
       "      <th></th>\n",
       "      <th>Team</th>\n",
       "      <th>Matches_played</th>\n",
       "      <th>Agg_HomeTeam_Goals</th>\n",
       "      <th>Agg_AwayTeam_Goals</th>\n",
       "      <th>Home_Scoring_Strength</th>\n",
       "      <th>Away_Scoring_Strength</th>\n",
       "      <th>Agg_Home_Goal_Con</th>\n",
       "      <th>Agg_Away_Goal_Con</th>\n",
       "      <th>Home_Defending_Strength</th>\n",
       "      <th>Away_Defending_Strength</th>\n",
       "    </tr>\n",
       "  </thead>\n",
       "  <tbody>\n",
       "  </tbody>\n",
       "</table>\n",
       "</div>"
      ],
      "text/plain": [
       "Empty DataFrame\n",
       "Columns: [Team, Matches_played, Agg_HomeTeam_Goals, Agg_AwayTeam_Goals, Home_Scoring_Strength, Away_Scoring_Strength, Agg_Home_Goal_Con, Agg_Away_Goal_Con, Home_Defending_Strength, Away_Defending_Strength]\n",
       "Index: []"
      ]
     },
     "execution_count": 15,
     "metadata": {},
     "output_type": "execute_result"
    }
   ],
   "source": [
    "# Declaring a Dataframe with new column for further analysis- \n",
    "#Team, Aggregated Home Goals Scored, Aggregated Away Goals Scored, Team Scoring Strength, Aggregated Home Goals Conceded, \n",
    "#Aggregated Away Goals Conceded, Team Defending Strength\n",
    "\n",
    "teams_perf_analysis = pd.DataFrame(columns=('Team','Matches_played','Agg_HomeTeam_Goals','Agg_AwayTeam_Goals','Home_Scoring_Strength',\n",
    "                                 'Away_Scoring_Strength','Agg_Home_Goal_Con','Agg_Away_Goal_Con','Home_Defending_Strength'\n",
    "                                 ,'Away_Defending_Strength',))\n",
    "teams_perf_analysis"
   ]
  },
  {
   "cell_type": "code",
   "execution_count": 16,
   "metadata": {},
   "outputs": [],
   "source": [
    "# Analysing each team overall performance:\n",
    "\n",
    "teams_perf_analysis.Team = hometeam_performance.HomeTeam.min().values\n",
    "teams_perf_analysis.Matches_played = list(hometeam_performance.HomeTeam.size())\n",
    "teams_perf_analysis.Agg_HomeTeam_Goals = hometeam_performance.FullTime_HT_Goal.sum().values\n",
    "teams_perf_analysis.Agg_Home_Goal_Con = hometeam_performance.FullTime_AT_Goal.sum().values\n",
    "teams_perf_analysis.Agg_AwayTeam_Goals = awayteam_performance.FullTime_AT_Goal.sum().values\n",
    "teams_perf_analysis.Agg_Away_Goal_Con = awayteam_performance.FullTime_HT_Goal.sum().values"
   ]
  },
  {
   "cell_type": "code",
   "execution_count": 17,
   "metadata": {},
   "outputs": [],
   "source": [
    "# Home_Scoring_Strength- Ratio of 'Individual team Home Goals scored average' by 'Total Home Goals average'\n",
    "# Away_Scoring_Strength- Ratio of 'Individual team Away Goals scored average' by 'Total Away Goals average'\n",
    "# Home_Defending_Strength- Ratio of 'Individual team Home Goals conceded average' by 'Total Away Goals conceded average'\n",
    "# Away_Defending_Strength- Ratio of 'Individual team Home Goals conceded average' by 'Total Away Goals conceded average'\n",
    "\n",
    "teams_perf_analysis.Home_Scoring_Strength = (teams_perf_analysis.Agg_HomeTeam_Goals \n",
    "                                             / teams_perf_analysis.Matches_played) / hometeam_goal_scored_mean\n",
    "teams_perf_analysis.Away_Scoring_Strength = (teams_perf_analysis.Agg_AwayTeam_Goals \n",
    "                                             / teams_perf_analysis.Matches_played) / awayteam_goal_scored_mean\n",
    "teams_perf_analysis.Home_Defending_Strength = (teams_perf_analysis.Agg_Home_Goal_Con \n",
    "                                             / teams_perf_analysis.Matches_played) / hometeam_goal_conceded_mean\n",
    "teams_perf_analysis.Away_Defending_Strength = (teams_perf_analysis.Agg_Away_Goal_Con \n",
    "                                             / teams_perf_analysis.Matches_played) / awayteam_goal_conceded_mean"
   ]
  },
  {
   "cell_type": "code",
   "execution_count": 18,
   "metadata": {},
   "outputs": [
    {
     "data": {
      "image/png": "[encoded data removed]",
      "text/plain": [
       "<Figure size 576x432 with 2 Axes>"
      ]
     },
     "metadata": {
      "needs_background": "light"
     },
     "output_type": "display_data"
    }
   ],
   "source": [
    "# Correction Matrix Plot\n",
    "\n",
    "data = teams_perf_analysis[['Home_Scoring_Strength','Home_Defending_Strength','Away_Scoring_Strength',\n",
    "                            'Away_Defending_Strength','Agg_HomeTeam_Goals', 'Agg_AwayTeam_Goals',\n",
    "                            'Agg_Home_Goal_Con', 'Agg_Away_Goal_Con']]\n",
    "correlations = data.corr()\n",
    "names=list(data)\n",
    "# plot correlation matrix\n",
    "fig = plt.figure(figsize=(8,6))\n",
    "ax = fig.add_subplot(111)\n",
    "cax = ax.matshow(correlations, vmin=-1, vmax=1, cmap='plasma')\n",
    "fig.colorbar(cax)\n",
    "ticks = np.arange(0,8,1)\n",
    "ax.set_xticks(ticks)\n",
    "ax.set_yticks(ticks)\n",
    "ax.set_xticklabels(['HSS', 'HDS', 'ASS', 'ADS', 'AHG', 'AAG', 'AHC', 'AAC'])\n",
    "ax.set_yticklabels(names)\n",
    "plt.show()"
   ]
  },
  {
   "cell_type": "code",
   "execution_count": 19,
   "metadata": {},
   "outputs": [],
   "source": [
    "teams_perf_analysis_corr = pd.DataFrame(columns=('HSS',  'HDS', 'ASS', 'ADS', 'AHG', 'AAG', 'AHC', 'AAC',))\n",
    "teams_perf_analysis_corr[['HSS',  'HDS', 'ASS', 'ADS', 'AHG', 'AAG', 'AHC', 'AAC']] = teams_perf_analysis[['Home_Scoring_Strength', 'Home_Defending_Strength','Away_Scoring_Strength', 'Away_Defending_Strength', 'Agg_HomeTeam_Goals', 'Agg_AwayTeam_Goals', 'Agg_Home_Goal_Con', 'Agg_Away_Goal_Con']]"
   ]
  },
  {
   "cell_type": "code",
   "execution_count": 20,
   "metadata": {},
   "outputs": [
    {
     "data": {
      "text/html": [
       "<div>\n",
       "<style scoped>\n",
       "    .dataframe tbody tr th:only-of-type {\n",
       "        vertical-align: middle;\n",
       "    }\n",
       "\n",
       "    .dataframe tbody tr th {\n",
       "        vertical-align: top;\n",
       "    }\n",
       "\n",
       "    .dataframe thead th {\n",
       "        text-align: right;\n",
       "    }\n",
       "</style>\n",
       "<table border=\"1\" class=\"dataframe\">\n",
       "  <thead>\n",
       "    <tr style=\"text-align: right;\">\n",
       "      <th></th>\n",
       "      <th>HSS</th>\n",
       "      <th>HDS</th>\n",
       "      <th>ASS</th>\n",
       "      <th>ADS</th>\n",
       "      <th>AHG</th>\n",
       "      <th>AAG</th>\n",
       "      <th>AHC</th>\n",
       "      <th>AAC</th>\n",
       "    </tr>\n",
       "  </thead>\n",
       "  <tbody>\n",
       "    <tr>\n",
       "      <th>0</th>\n",
       "      <td>0.690336</td>\n",
       "      <td>1.154577</td>\n",
       "      <td>0.761783</td>\n",
       "      <td>1.223380</td>\n",
       "      <td>79.0</td>\n",
       "      <td>64.0</td>\n",
       "      <td>97.0</td>\n",
       "      <td>140.0</td>\n",
       "    </tr>\n",
       "    <tr>\n",
       "      <th>1</th>\n",
       "      <td>0.803935</td>\n",
       "      <td>1.523565</td>\n",
       "      <td>0.666560</td>\n",
       "      <td>0.908796</td>\n",
       "      <td>23.0</td>\n",
       "      <td>14.0</td>\n",
       "      <td>32.0</td>\n",
       "      <td>26.0</td>\n",
       "    </tr>\n",
       "    <tr>\n",
       "      <th>2</th>\n",
       "      <td>0.715774</td>\n",
       "      <td>0.985027</td>\n",
       "      <td>0.874463</td>\n",
       "      <td>1.003560</td>\n",
       "      <td>97.0</td>\n",
       "      <td>87.0</td>\n",
       "      <td>98.0</td>\n",
       "      <td>136.0</td>\n",
       "    </tr>\n",
       "    <tr>\n",
       "      <th>3</th>\n",
       "      <td>0.809761</td>\n",
       "      <td>1.198220</td>\n",
       "      <td>0.833200</td>\n",
       "      <td>1.252508</td>\n",
       "      <td>139.0</td>\n",
       "      <td>105.0</td>\n",
       "      <td>151.0</td>\n",
       "      <td>215.0</td>\n",
       "    </tr>\n",
       "    <tr>\n",
       "      <th>4</th>\n",
       "      <td>0.804608</td>\n",
       "      <td>1.113374</td>\n",
       "      <td>0.626273</td>\n",
       "      <td>1.021724</td>\n",
       "      <td>63.0</td>\n",
       "      <td>36.0</td>\n",
       "      <td>64.0</td>\n",
       "      <td>80.0</td>\n",
       "    </tr>\n",
       "    <tr>\n",
       "      <th>...</th>\n",
       "      <td>...</td>\n",
       "      <td>...</td>\n",
       "      <td>...</td>\n",
       "      <td>...</td>\n",
       "      <td>...</td>\n",
       "      <td>...</td>\n",
       "      <td>...</td>\n",
       "      <td>...</td>\n",
       "    </tr>\n",
       "    <tr>\n",
       "      <th>117</th>\n",
       "      <td>0.935616</td>\n",
       "      <td>1.186243</td>\n",
       "      <td>0.921685</td>\n",
       "      <td>1.113133</td>\n",
       "      <td>448.0</td>\n",
       "      <td>324.0</td>\n",
       "      <td>417.0</td>\n",
       "      <td>533.0</td>\n",
       "    </tr>\n",
       "    <tr>\n",
       "      <th>118</th>\n",
       "      <td>0.738397</td>\n",
       "      <td>1.279557</td>\n",
       "      <td>0.874860</td>\n",
       "      <td>1.166580</td>\n",
       "      <td>169.0</td>\n",
       "      <td>147.0</td>\n",
       "      <td>215.0</td>\n",
       "      <td>267.0</td>\n",
       "    </tr>\n",
       "    <tr>\n",
       "      <th>119</th>\n",
       "      <td>0.809020</td>\n",
       "      <td>1.381596</td>\n",
       "      <td>0.904617</td>\n",
       "      <td>1.165230</td>\n",
       "      <td>134.0</td>\n",
       "      <td>110.0</td>\n",
       "      <td>168.0</td>\n",
       "      <td>193.0</td>\n",
       "    </tr>\n",
       "    <tr>\n",
       "      <th>120</th>\n",
       "      <td>0.699074</td>\n",
       "      <td>1.380731</td>\n",
       "      <td>0.857005</td>\n",
       "      <td>1.293287</td>\n",
       "      <td>20.0</td>\n",
       "      <td>18.0</td>\n",
       "      <td>29.0</td>\n",
       "      <td>37.0</td>\n",
       "    </tr>\n",
       "    <tr>\n",
       "      <th>121</th>\n",
       "      <td>0.948744</td>\n",
       "      <td>1.135872</td>\n",
       "      <td>0.816196</td>\n",
       "      <td>1.138492</td>\n",
       "      <td>190.0</td>\n",
       "      <td>120.0</td>\n",
       "      <td>167.0</td>\n",
       "      <td>228.0</td>\n",
       "    </tr>\n",
       "  </tbody>\n",
       "</table>\n",
       "<p>122 rows × 8 columns</p>\n",
       "</div>"
      ],
      "text/plain": [
       "          HSS       HDS       ASS       ADS    AHG    AAG    AHC    AAC\n",
       "0    0.690336  1.154577  0.761783  1.223380   79.0   64.0   97.0  140.0\n",
       "1    0.803935  1.523565  0.666560  0.908796   23.0   14.0   32.0   26.0\n",
       "2    0.715774  0.985027  0.874463  1.003560   97.0   87.0   98.0  136.0\n",
       "3    0.809761  1.198220  0.833200  1.252508  139.0  105.0  151.0  215.0\n",
       "4    0.804608  1.113374  0.626273  1.021724   63.0   36.0   64.0   80.0\n",
       "..        ...       ...       ...       ...    ...    ...    ...    ...\n",
       "117  0.935616  1.186243  0.921685  1.113133  448.0  324.0  417.0  533.0\n",
       "118  0.738397  1.279557  0.874860  1.166580  169.0  147.0  215.0  267.0\n",
       "119  0.809020  1.381596  0.904617  1.165230  134.0  110.0  168.0  193.0\n",
       "120  0.699074  1.380731  0.857005  1.293287   20.0   18.0   29.0   37.0\n",
       "121  0.948744  1.135872  0.816196  1.138492  190.0  120.0  167.0  228.0\n",
       "\n",
       "[122 rows x 8 columns]"
      ]
     },
     "execution_count": 20,
     "metadata": {},
     "output_type": "execute_result"
    }
   ],
   "source": [
    "teams_perf_analysis_corr"
   ]
  },
  {
   "cell_type": "code",
   "execution_count": 21,
   "metadata": {},
   "outputs": [
    {
     "data": {
      "text/html": [
       "<style  type=\"text/css\" >\n",
       "    #T_3cd44083_8676_11ea_a729_802bf94c8954row0_col0 {\n",
       "            background-color:  #023858;\n",
       "            color:  #f1f1f1;\n",
       "        }    #T_3cd44083_8676_11ea_a729_802bf94c8954row0_col1 {\n",
       "            background-color:  #f6eff7;\n",
       "            color:  #000000;\n",
       "        }    #T_3cd44083_8676_11ea_a729_802bf94c8954row0_col2 {\n",
       "            background-color:  #045280;\n",
       "            color:  #f1f1f1;\n",
       "        }    #T_3cd44083_8676_11ea_a729_802bf94c8954row0_col3 {\n",
       "            background-color:  #f7f0f7;\n",
       "            color:  #000000;\n",
       "        }    #T_3cd44083_8676_11ea_a729_802bf94c8954row0_col4 {\n",
       "            background-color:  #03517e;\n",
       "            color:  #f1f1f1;\n",
       "        }    #T_3cd44083_8676_11ea_a729_802bf94c8954row0_col5 {\n",
       "            background-color:  #045382;\n",
       "            color:  #f1f1f1;\n",
       "        }    #T_3cd44083_8676_11ea_a729_802bf94c8954row0_col6 {\n",
       "            background-color:  #2484ba;\n",
       "            color:  #000000;\n",
       "        }    #T_3cd44083_8676_11ea_a729_802bf94c8954row0_col7 {\n",
       "            background-color:  #2484ba;\n",
       "            color:  #000000;\n",
       "        }    #T_3cd44083_8676_11ea_a729_802bf94c8954row1_col0 {\n",
       "            background-color:  #faf2f8;\n",
       "            color:  #000000;\n",
       "        }    #T_3cd44083_8676_11ea_a729_802bf94c8954row1_col1 {\n",
       "            background-color:  #023858;\n",
       "            color:  #f1f1f1;\n",
       "        }    #T_3cd44083_8676_11ea_a729_802bf94c8954row1_col2 {\n",
       "            background-color:  #fff7fb;\n",
       "            color:  #000000;\n",
       "        }    #T_3cd44083_8676_11ea_a729_802bf94c8954row1_col3 {\n",
       "            background-color:  #0566a0;\n",
       "            color:  #f1f1f1;\n",
       "        }    #T_3cd44083_8676_11ea_a729_802bf94c8954row1_col4 {\n",
       "            background-color:  #faf3f9;\n",
       "            color:  #000000;\n",
       "        }    #T_3cd44083_8676_11ea_a729_802bf94c8954row1_col5 {\n",
       "            background-color:  #fbf3f9;\n",
       "            color:  #000000;\n",
       "        }    #T_3cd44083_8676_11ea_a729_802bf94c8954row1_col6 {\n",
       "            background-color:  #faf3f9;\n",
       "            color:  #000000;\n",
       "        }    #T_3cd44083_8676_11ea_a729_802bf94c8954row1_col7 {\n",
       "            background-color:  #fff7fb;\n",
       "            color:  #000000;\n",
       "        }    #T_3cd44083_8676_11ea_a729_802bf94c8954row2_col0 {\n",
       "            background-color:  #03517e;\n",
       "            color:  #f1f1f1;\n",
       "        }    #T_3cd44083_8676_11ea_a729_802bf94c8954row2_col1 {\n",
       "            background-color:  #f7f0f7;\n",
       "            color:  #000000;\n",
       "        }    #T_3cd44083_8676_11ea_a729_802bf94c8954row2_col2 {\n",
       "            background-color:  #023858;\n",
       "            color:  #f1f1f1;\n",
       "        }    #T_3cd44083_8676_11ea_a729_802bf94c8954row2_col3 {\n",
       "            background-color:  #f0eaf4;\n",
       "            color:  #000000;\n",
       "        }    #T_3cd44083_8676_11ea_a729_802bf94c8954row2_col4 {\n",
       "            background-color:  #045c90;\n",
       "            color:  #f1f1f1;\n",
       "        }    #T_3cd44083_8676_11ea_a729_802bf94c8954row2_col5 {\n",
       "            background-color:  #04598c;\n",
       "            color:  #f1f1f1;\n",
       "        }    #T_3cd44083_8676_11ea_a729_802bf94c8954row2_col6 {\n",
       "            background-color:  #2f8bbe;\n",
       "            color:  #000000;\n",
       "        }    #T_3cd44083_8676_11ea_a729_802bf94c8954row2_col7 {\n",
       "            background-color:  #2f8bbe;\n",
       "            color:  #000000;\n",
       "        }    #T_3cd44083_8676_11ea_a729_802bf94c8954row3_col0 {\n",
       "            background-color:  #fff7fb;\n",
       "            color:  #000000;\n",
       "        }    #T_3cd44083_8676_11ea_a729_802bf94c8954row3_col1 {\n",
       "            background-color:  #0567a2;\n",
       "            color:  #f1f1f1;\n",
       "        }    #T_3cd44083_8676_11ea_a729_802bf94c8954row3_col2 {\n",
       "            background-color:  #fdf5fa;\n",
       "            color:  #000000;\n",
       "        }    #T_3cd44083_8676_11ea_a729_802bf94c8954row3_col3 {\n",
       "            background-color:  #023858;\n",
       "            color:  #f1f1f1;\n",
       "        }    #T_3cd44083_8676_11ea_a729_802bf94c8954row3_col4 {\n",
       "            background-color:  #fff7fb;\n",
       "            color:  #000000;\n",
       "        }    #T_3cd44083_8676_11ea_a729_802bf94c8954row3_col5 {\n",
       "            background-color:  #fff7fb;\n",
       "            color:  #000000;\n",
       "        }    #T_3cd44083_8676_11ea_a729_802bf94c8954row3_col6 {\n",
       "            background-color:  #fff7fb;\n",
       "            color:  #000000;\n",
       "        }    #T_3cd44083_8676_11ea_a729_802bf94c8954row3_col7 {\n",
       "            background-color:  #fbf4f9;\n",
       "            color:  #000000;\n",
       "        }    #T_3cd44083_8676_11ea_a729_802bf94c8954row4_col0 {\n",
       "            background-color:  #045280;\n",
       "            color:  #f1f1f1;\n",
       "        }    #T_3cd44083_8676_11ea_a729_802bf94c8954row4_col1 {\n",
       "            background-color:  #fff7fb;\n",
       "            color:  #000000;\n",
       "        }    #T_3cd44083_8676_11ea_a729_802bf94c8954row4_col2 {\n",
       "            background-color:  #045e94;\n",
       "            color:  #f1f1f1;\n",
       "        }    #T_3cd44083_8676_11ea_a729_802bf94c8954row4_col3 {\n",
       "            background-color:  #fff7fb;\n",
       "            color:  #000000;\n",
       "        }    #T_3cd44083_8676_11ea_a729_802bf94c8954row4_col4 {\n",
       "            background-color:  #023858;\n",
       "            color:  #f1f1f1;\n",
       "        }    #T_3cd44083_8676_11ea_a729_802bf94c8954row4_col5 {\n",
       "            background-color:  #023858;\n",
       "            color:  #f1f1f1;\n",
       "        }    #T_3cd44083_8676_11ea_a729_802bf94c8954row4_col6 {\n",
       "            background-color:  #04598c;\n",
       "            color:  #f1f1f1;\n",
       "        }    #T_3cd44083_8676_11ea_a729_802bf94c8954row4_col7 {\n",
       "            background-color:  #04588a;\n",
       "            color:  #f1f1f1;\n",
       "        }    #T_3cd44083_8676_11ea_a729_802bf94c8954row5_col0 {\n",
       "            background-color:  #045585;\n",
       "            color:  #f1f1f1;\n",
       "        }    #T_3cd44083_8676_11ea_a729_802bf94c8954row5_col1 {\n",
       "            background-color:  #fff7fb;\n",
       "            color:  #000000;\n",
       "        }    #T_3cd44083_8676_11ea_a729_802bf94c8954row5_col2 {\n",
       "            background-color:  #045b8f;\n",
       "            color:  #f1f1f1;\n",
       "        }    #T_3cd44083_8676_11ea_a729_802bf94c8954row5_col3 {\n",
       "            background-color:  #fff7fb;\n",
       "            color:  #000000;\n",
       "        }    #T_3cd44083_8676_11ea_a729_802bf94c8954row5_col4 {\n",
       "            background-color:  #023858;\n",
       "            color:  #f1f1f1;\n",
       "        }    #T_3cd44083_8676_11ea_a729_802bf94c8954row5_col5 {\n",
       "            background-color:  #023858;\n",
       "            color:  #f1f1f1;\n",
       "        }    #T_3cd44083_8676_11ea_a729_802bf94c8954row5_col6 {\n",
       "            background-color:  #045a8d;\n",
       "            color:  #f1f1f1;\n",
       "        }    #T_3cd44083_8676_11ea_a729_802bf94c8954row5_col7 {\n",
       "            background-color:  #04598c;\n",
       "            color:  #f1f1f1;\n",
       "        }    #T_3cd44083_8676_11ea_a729_802bf94c8954row6_col0 {\n",
       "            background-color:  #1b7eb7;\n",
       "            color:  #000000;\n",
       "        }    #T_3cd44083_8676_11ea_a729_802bf94c8954row6_col1 {\n",
       "            background-color:  #ede8f3;\n",
       "            color:  #000000;\n",
       "        }    #T_3cd44083_8676_11ea_a729_802bf94c8954row6_col2 {\n",
       "            background-color:  #2a88bc;\n",
       "            color:  #000000;\n",
       "        }    #T_3cd44083_8676_11ea_a729_802bf94c8954row6_col3 {\n",
       "            background-color:  #ede8f3;\n",
       "            color:  #000000;\n",
       "        }    #T_3cd44083_8676_11ea_a729_802bf94c8954row6_col4 {\n",
       "            background-color:  #045585;\n",
       "            color:  #f1f1f1;\n",
       "        }    #T_3cd44083_8676_11ea_a729_802bf94c8954row6_col5 {\n",
       "            background-color:  #045687;\n",
       "            color:  #f1f1f1;\n",
       "        }    #T_3cd44083_8676_11ea_a729_802bf94c8954row6_col6 {\n",
       "            background-color:  #023858;\n",
       "            color:  #f1f1f1;\n",
       "        }    #T_3cd44083_8676_11ea_a729_802bf94c8954row6_col7 {\n",
       "            background-color:  #023a5b;\n",
       "            color:  #f1f1f1;\n",
       "        }    #T_3cd44083_8676_11ea_a729_802bf94c8954row7_col0 {\n",
       "            background-color:  #1c7fb8;\n",
       "            color:  #000000;\n",
       "        }    #T_3cd44083_8676_11ea_a729_802bf94c8954row7_col1 {\n",
       "            background-color:  #f2ecf5;\n",
       "            color:  #000000;\n",
       "        }    #T_3cd44083_8676_11ea_a729_802bf94c8954row7_col2 {\n",
       "            background-color:  #2a88bc;\n",
       "            color:  #000000;\n",
       "        }    #T_3cd44083_8676_11ea_a729_802bf94c8954row7_col3 {\n",
       "            background-color:  #e9e5f1;\n",
       "            color:  #000000;\n",
       "        }    #T_3cd44083_8676_11ea_a729_802bf94c8954row7_col4 {\n",
       "            background-color:  #045585;\n",
       "            color:  #f1f1f1;\n",
       "        }    #T_3cd44083_8676_11ea_a729_802bf94c8954row7_col5 {\n",
       "            background-color:  #045687;\n",
       "            color:  #f1f1f1;\n",
       "        }    #T_3cd44083_8676_11ea_a729_802bf94c8954row7_col6 {\n",
       "            background-color:  #023a5b;\n",
       "            color:  #f1f1f1;\n",
       "        }    #T_3cd44083_8676_11ea_a729_802bf94c8954row7_col7 {\n",
       "            background-color:  #023858;\n",
       "            color:  #f1f1f1;\n",
       "        }</style><table id=\"T_3cd44083_8676_11ea_a729_802bf94c8954\" ><thead>    <tr>        <th class=\"blank level0\" ></th>        <th class=\"col_heading level0 col0\" >HSS</th>        <th class=\"col_heading level0 col1\" >HDS</th>        <th class=\"col_heading level0 col2\" >ASS</th>        <th class=\"col_heading level0 col3\" >ADS</th>        <th class=\"col_heading level0 col4\" >AHG</th>        <th class=\"col_heading level0 col5\" >AAG</th>        <th class=\"col_heading level0 col6\" >AHC</th>        <th class=\"col_heading level0 col7\" >AAC</th>    </tr></thead><tbody>\n",
       "                <tr>\n",
       "                        <th id=\"T_3cd44083_8676_11ea_a729_802bf94c8954level0_row0\" class=\"row_heading level0 row0\" >HSS</th>\n",
       "                        <td id=\"T_3cd44083_8676_11ea_a729_802bf94c8954row0_col0\" class=\"data row0 col0\" >1.00</td>\n",
       "                        <td id=\"T_3cd44083_8676_11ea_a729_802bf94c8954row0_col1\" class=\"data row0 col1\" >-0.55</td>\n",
       "                        <td id=\"T_3cd44083_8676_11ea_a729_802bf94c8954row0_col2\" class=\"data row0 col2\" >0.85</td>\n",
       "                        <td id=\"T_3cd44083_8676_11ea_a729_802bf94c8954row0_col3\" class=\"data row0 col3\" >-0.61</td>\n",
       "                        <td id=\"T_3cd44083_8676_11ea_a729_802bf94c8954row0_col4\" class=\"data row0 col4\" >0.84</td>\n",
       "                        <td id=\"T_3cd44083_8676_11ea_a729_802bf94c8954row0_col5\" class=\"data row0 col5\" >0.83</td>\n",
       "                        <td id=\"T_3cd44083_8676_11ea_a729_802bf94c8954row0_col6\" class=\"data row0 col6\" >0.51</td>\n",
       "                        <td id=\"T_3cd44083_8676_11ea_a729_802bf94c8954row0_col7\" class=\"data row0 col7\" >0.50</td>\n",
       "            </tr>\n",
       "            <tr>\n",
       "                        <th id=\"T_3cd44083_8676_11ea_a729_802bf94c8954level0_row1\" class=\"row_heading level0 row1\" >HDS</th>\n",
       "                        <td id=\"T_3cd44083_8676_11ea_a729_802bf94c8954row1_col0\" class=\"data row1 col0\" >-0.55</td>\n",
       "                        <td id=\"T_3cd44083_8676_11ea_a729_802bf94c8954row1_col1\" class=\"data row1 col1\" >1.00</td>\n",
       "                        <td id=\"T_3cd44083_8676_11ea_a729_802bf94c8954row1_col2\" class=\"data row1 col2\" >-0.56</td>\n",
       "                        <td id=\"T_3cd44083_8676_11ea_a729_802bf94c8954row1_col3\" class=\"data row1 col3\" >0.67</td>\n",
       "                        <td id=\"T_3cd44083_8676_11ea_a729_802bf94c8954row1_col4\" class=\"data row1 col4\" >-0.65</td>\n",
       "                        <td id=\"T_3cd44083_8676_11ea_a729_802bf94c8954row1_col5\" class=\"data row1 col5\" >-0.65</td>\n",
       "                        <td id=\"T_3cd44083_8676_11ea_a729_802bf94c8954row1_col6\" class=\"data row1 col6\" >-0.45</td>\n",
       "                        <td id=\"T_3cd44083_8676_11ea_a729_802bf94c8954row1_col7\" class=\"data row1 col7\" >-0.51</td>\n",
       "            </tr>\n",
       "            <tr>\n",
       "                        <th id=\"T_3cd44083_8676_11ea_a729_802bf94c8954level0_row2\" class=\"row_heading level0 row2\" >ASS</th>\n",
       "                        <td id=\"T_3cd44083_8676_11ea_a729_802bf94c8954row2_col0\" class=\"data row2 col0\" >0.85</td>\n",
       "                        <td id=\"T_3cd44083_8676_11ea_a729_802bf94c8954row2_col1\" class=\"data row2 col1\" >-0.56</td>\n",
       "                        <td id=\"T_3cd44083_8676_11ea_a729_802bf94c8954row2_col2\" class=\"data row2 col2\" >1.00</td>\n",
       "                        <td id=\"T_3cd44083_8676_11ea_a729_802bf94c8954row2_col3\" class=\"data row2 col3\" >-0.54</td>\n",
       "                        <td id=\"T_3cd44083_8676_11ea_a729_802bf94c8954row2_col4\" class=\"data row2 col4\" >0.76</td>\n",
       "                        <td id=\"T_3cd44083_8676_11ea_a729_802bf94c8954row2_col5\" class=\"data row2 col5\" >0.79</td>\n",
       "                        <td id=\"T_3cd44083_8676_11ea_a729_802bf94c8954row2_col6\" class=\"data row2 col6\" >0.46</td>\n",
       "                        <td id=\"T_3cd44083_8676_11ea_a729_802bf94c8954row2_col7\" class=\"data row2 col7\" >0.46</td>\n",
       "            </tr>\n",
       "            <tr>\n",
       "                        <th id=\"T_3cd44083_8676_11ea_a729_802bf94c8954level0_row3\" class=\"row_heading level0 row3\" >ADS</th>\n",
       "                        <td id=\"T_3cd44083_8676_11ea_a729_802bf94c8954row3_col0\" class=\"data row3 col0\" >-0.61</td>\n",
       "                        <td id=\"T_3cd44083_8676_11ea_a729_802bf94c8954row3_col1\" class=\"data row3 col1\" >0.67</td>\n",
       "                        <td id=\"T_3cd44083_8676_11ea_a729_802bf94c8954row3_col2\" class=\"data row3 col2\" >-0.54</td>\n",
       "                        <td id=\"T_3cd44083_8676_11ea_a729_802bf94c8954row3_col3\" class=\"data row3 col3\" >1.00</td>\n",
       "                        <td id=\"T_3cd44083_8676_11ea_a729_802bf94c8954row3_col4\" class=\"data row3 col4\" >-0.71</td>\n",
       "                        <td id=\"T_3cd44083_8676_11ea_a729_802bf94c8954row3_col5\" class=\"data row3 col5\" >-0.70</td>\n",
       "                        <td id=\"T_3cd44083_8676_11ea_a729_802bf94c8954row3_col6\" class=\"data row3 col6\" >-0.50</td>\n",
       "                        <td id=\"T_3cd44083_8676_11ea_a729_802bf94c8954row3_col7\" class=\"data row3 col7\" >-0.47</td>\n",
       "            </tr>\n",
       "            <tr>\n",
       "                        <th id=\"T_3cd44083_8676_11ea_a729_802bf94c8954level0_row4\" class=\"row_heading level0 row4\" >AHG</th>\n",
       "                        <td id=\"T_3cd44083_8676_11ea_a729_802bf94c8954row4_col0\" class=\"data row4 col0\" >0.84</td>\n",
       "                        <td id=\"T_3cd44083_8676_11ea_a729_802bf94c8954row4_col1\" class=\"data row4 col1\" >-0.65</td>\n",
       "                        <td id=\"T_3cd44083_8676_11ea_a729_802bf94c8954row4_col2\" class=\"data row4 col2\" >0.76</td>\n",
       "                        <td id=\"T_3cd44083_8676_11ea_a729_802bf94c8954row4_col3\" class=\"data row4 col3\" >-0.71</td>\n",
       "                        <td id=\"T_3cd44083_8676_11ea_a729_802bf94c8954row4_col4\" class=\"data row4 col4\" >1.00</td>\n",
       "                        <td id=\"T_3cd44083_8676_11ea_a729_802bf94c8954row4_col5\" class=\"data row4 col5\" >0.99</td>\n",
       "                        <td id=\"T_3cd44083_8676_11ea_a729_802bf94c8954row4_col6\" class=\"data row4 col6\" >0.82</td>\n",
       "                        <td id=\"T_3cd44083_8676_11ea_a729_802bf94c8954row4_col7\" class=\"data row4 col7\" >0.82</td>\n",
       "            </tr>\n",
       "            <tr>\n",
       "                        <th id=\"T_3cd44083_8676_11ea_a729_802bf94c8954level0_row5\" class=\"row_heading level0 row5\" >AAG</th>\n",
       "                        <td id=\"T_3cd44083_8676_11ea_a729_802bf94c8954row5_col0\" class=\"data row5 col0\" >0.83</td>\n",
       "                        <td id=\"T_3cd44083_8676_11ea_a729_802bf94c8954row5_col1\" class=\"data row5 col1\" >-0.65</td>\n",
       "                        <td id=\"T_3cd44083_8676_11ea_a729_802bf94c8954row5_col2\" class=\"data row5 col2\" >0.79</td>\n",
       "                        <td id=\"T_3cd44083_8676_11ea_a729_802bf94c8954row5_col3\" class=\"data row5 col3\" >-0.70</td>\n",
       "                        <td id=\"T_3cd44083_8676_11ea_a729_802bf94c8954row5_col4\" class=\"data row5 col4\" >0.99</td>\n",
       "                        <td id=\"T_3cd44083_8676_11ea_a729_802bf94c8954row5_col5\" class=\"data row5 col5\" >1.00</td>\n",
       "                        <td id=\"T_3cd44083_8676_11ea_a729_802bf94c8954row5_col6\" class=\"data row5 col6\" >0.81</td>\n",
       "                        <td id=\"T_3cd44083_8676_11ea_a729_802bf94c8954row5_col7\" class=\"data row5 col7\" >0.81</td>\n",
       "            </tr>\n",
       "            <tr>\n",
       "                        <th id=\"T_3cd44083_8676_11ea_a729_802bf94c8954level0_row6\" class=\"row_heading level0 row6\" >AHC</th>\n",
       "                        <td id=\"T_3cd44083_8676_11ea_a729_802bf94c8954row6_col0\" class=\"data row6 col0\" >0.51</td>\n",
       "                        <td id=\"T_3cd44083_8676_11ea_a729_802bf94c8954row6_col1\" class=\"data row6 col1\" >-0.45</td>\n",
       "                        <td id=\"T_3cd44083_8676_11ea_a729_802bf94c8954row6_col2\" class=\"data row6 col2\" >0.46</td>\n",
       "                        <td id=\"T_3cd44083_8676_11ea_a729_802bf94c8954row6_col3\" class=\"data row6 col3\" >-0.50</td>\n",
       "                        <td id=\"T_3cd44083_8676_11ea_a729_802bf94c8954row6_col4\" class=\"data row6 col4\" >0.82</td>\n",
       "                        <td id=\"T_3cd44083_8676_11ea_a729_802bf94c8954row6_col5\" class=\"data row6 col5\" >0.81</td>\n",
       "                        <td id=\"T_3cd44083_8676_11ea_a729_802bf94c8954row6_col6\" class=\"data row6 col6\" >1.00</td>\n",
       "                        <td id=\"T_3cd44083_8676_11ea_a729_802bf94c8954row6_col7\" class=\"data row6 col7\" >0.99</td>\n",
       "            </tr>\n",
       "            <tr>\n",
       "                        <th id=\"T_3cd44083_8676_11ea_a729_802bf94c8954level0_row7\" class=\"row_heading level0 row7\" >AAC</th>\n",
       "                        <td id=\"T_3cd44083_8676_11ea_a729_802bf94c8954row7_col0\" class=\"data row7 col0\" >0.50</td>\n",
       "                        <td id=\"T_3cd44083_8676_11ea_a729_802bf94c8954row7_col1\" class=\"data row7 col1\" >-0.51</td>\n",
       "                        <td id=\"T_3cd44083_8676_11ea_a729_802bf94c8954row7_col2\" class=\"data row7 col2\" >0.46</td>\n",
       "                        <td id=\"T_3cd44083_8676_11ea_a729_802bf94c8954row7_col3\" class=\"data row7 col3\" >-0.47</td>\n",
       "                        <td id=\"T_3cd44083_8676_11ea_a729_802bf94c8954row7_col4\" class=\"data row7 col4\" >0.82</td>\n",
       "                        <td id=\"T_3cd44083_8676_11ea_a729_802bf94c8954row7_col5\" class=\"data row7 col5\" >0.81</td>\n",
       "                        <td id=\"T_3cd44083_8676_11ea_a729_802bf94c8954row7_col6\" class=\"data row7 col6\" >0.99</td>\n",
       "                        <td id=\"T_3cd44083_8676_11ea_a729_802bf94c8954row7_col7\" class=\"data row7 col7\" >1.00</td>\n",
       "            </tr>\n",
       "    </tbody></table>"
      ],
      "text/plain": [
       "<pandas.io.formats.style.Styler at 0x1ac1d340>"
      ]
     },
     "execution_count": 21,
     "metadata": {},
     "output_type": "execute_result"
    },
    {
     "data": {
      "text/plain": [
       "<Figure size 10800x3600 with 0 Axes>"
      ]
     },
     "metadata": {},
     "output_type": "display_data"
    }
   ],
   "source": [
    "plt.figure(figsize=(150,50))\n",
    "\n",
    "rs = np.random.RandomState(0)\n",
    "data = teams_perf_analysis_corr[['HSS',  'HDS', 'ASS', 'ADS', 'AHG', 'AAG', 'AHC', 'AAC']]\n",
    "corr = data.corr()\n",
    "corr.style.background_gradient().set_precision(2)"
   ]
  },
  {
   "cell_type": "code",
   "execution_count": 22,
   "metadata": {
    "scrolled": true
   },
   "outputs": [
    {
     "data": {
      "image/png": "[encoded data removed]",
      "text/plain": [
       "<Figure size 576x432 with 1 Axes>"
      ]
     },
     "metadata": {
      "needs_background": "light"
     },
     "output_type": "display_data"
    }
   ],
   "source": [
    "import seaborn as sns\n",
    "#sns.boxplot(x=feature_table['HAS'])\n",
    "#sns.boxplot(x=feature_table['HDS'])\n",
    "# sns.boxplot(x=feature_table['AAS'])\n",
    "# sns.boxplot(x=feature_table['ADS'])\n",
    "# sns.boxplot(x=feature_table['AY'])\n",
    "# sns.boxplot(x=feature_table['HR'])\n",
    "# sns.boxplot(x=feature_table['AR'])\n",
    "\n",
    "\n",
    "data = teams_perf_analysis_corr[['HSS',  'HDS', 'ASS', 'ADS', 'AHG', 'AAG', 'AHC', 'AAC']]\n",
    "bp = data.boxplot(column=['HSS',  'HDS', 'ASS', 'ADS', 'AHG', 'AAG', 'AHC', 'AAC'],figsize=(8,6))\n",
    "[ax_tmp.set_xlabel('') for ax_tmp in np.asarray(bp).reshape(-1)]\n",
    "fig = np.asarray(bp).reshape(-1)[0].get_figure()\n",
    "fig.suptitle('Boxplot')\n",
    "plt.show()"
   ]
  },
  {
   "cell_type": "code",
   "execution_count": 23,
   "metadata": {
    "scrolled": true
   },
   "outputs": [
    {
     "data": {
      "image/png": "[encoded data removed]",
      "text/plain": [
       "<Figure size 576x576 with 64 Axes>"
      ]
     },
     "metadata": {
      "needs_background": "light"
     },
     "output_type": "display_data"
    }
   ],
   "source": [
    "# Plotting Scatter Matrix for all the computed attributes -\n",
    "\n",
    "scatter_matrix(teams_perf_analysis_corr[['HSS',  'HDS', 'ASS', 'ADS', 'AHG', 'AAG', 'AHC', 'AAC']],figsize=(8,8));"
   ]
  },
  {
   "cell_type": "markdown",
   "metadata": {},
   "source": []
  },
  {
   "cell_type": "markdown",
   "metadata": {},
   "source": [
    "# Modelling on our data set- "
   ]
  },
  {
   "cell_type": "code",
   "execution_count": 24,
   "metadata": {},
   "outputs": [
    {
     "name": "stderr",
     "output_type": "stream",
     "text": [
      "c:\\users\\user\\appdata\\local\\programs\\python\\python38-32\\lib\\site-packages\\pandas\\core\\generic.py:6746: SettingWithCopyWarning: \n",
      "A value is trying to be set on a copy of a slice from a DataFrame\n",
      "\n",
      "See the caveats in the documentation: https://pandas.pydata.org/pandas-docs/stable/user_guide/indexing.html#returning-a-view-versus-a-copy\n",
      "  self._update_inplace(new_data)\n"
     ]
    }
   ],
   "source": [
    "#Changing Categorial attribute 'FullTime_Res' to Numerical for better convenience in terms of calculation.\n",
    "final_data_set[\"FullTime_Res\"].replace({\"H\": '1',\"A\": '-1',\"D\": '0',}, inplace=True)"
   ]
  },
  {
   "cell_type": "code",
   "execution_count": 25,
   "metadata": {},
   "outputs": [],
   "source": [
    "# Including independent variable in X_all and dependent variable in Y_all-\n",
    "\n",
    "X_all = final_data_set[['FullTime_HT_Goal','FullTime_AT_Goal','HT_Shots_Target','AT_Shots_Target','HT_Corner','AT_Corner']]\n",
    "y_all = final_data_set['FullTime_Res']\n",
    "\n",
    "#X_all = final_data_set[[FullTime_HT_Goal','FullTime_AT_Goal','FullTime_Res','HalfTime_HT_Goal','HalfTime_AT_Goal','HT_Shots','AT_Shots','HT_Shots_Target','AT_Shots_Target','HT_Corner','AT_Corner','HT_Fouls','AT_Fouls','HT_Yellow_Cards','AT_Yellow_Cards','HT_Red_Cards','AT_Red_Cards']]"
   ]
  },
  {
   "cell_type": "code",
   "execution_count": 26,
   "metadata": {},
   "outputs": [
    {
     "data": {
      "text/html": [
       "<div>\n",
       "<style scoped>\n",
       "    .dataframe tbody tr th:only-of-type {\n",
       "        vertical-align: middle;\n",
       "    }\n",
       "\n",
       "    .dataframe tbody tr th {\n",
       "        vertical-align: top;\n",
       "    }\n",
       "\n",
       "    .dataframe thead th {\n",
       "        text-align: right;\n",
       "    }\n",
       "</style>\n",
       "<table border=\"1\" class=\"dataframe\">\n",
       "  <thead>\n",
       "    <tr style=\"text-align: right;\">\n",
       "      <th></th>\n",
       "      <th>Date</th>\n",
       "      <th>HomeTeam</th>\n",
       "      <th>AwayTeam</th>\n",
       "      <th>FullTime_HT_Goal</th>\n",
       "      <th>FullTime_AT_Goal</th>\n",
       "      <th>FullTime_Res</th>\n",
       "      <th>HalfTime_HT_Goal</th>\n",
       "      <th>HalfTime_AT_Goal</th>\n",
       "      <th>HT_Shots</th>\n",
       "      <th>AT_Shots</th>\n",
       "      <th>HT_Shots_Target</th>\n",
       "      <th>AT_Shots_Target</th>\n",
       "      <th>HT_Corner</th>\n",
       "      <th>AT_Corner</th>\n",
       "      <th>HT_Fouls</th>\n",
       "      <th>AT_Fouls</th>\n",
       "      <th>HT_Yellow_Cards</th>\n",
       "      <th>AT_Yellow_Cards</th>\n",
       "      <th>HT_Red_Cards</th>\n",
       "      <th>AT_Red_Cards</th>\n",
       "    </tr>\n",
       "  </thead>\n",
       "  <tbody>\n",
       "    <tr>\n",
       "      <th>0</th>\n",
       "      <td>19/08/00</td>\n",
       "      <td>Charlton</td>\n",
       "      <td>Man City</td>\n",
       "      <td>4.0</td>\n",
       "      <td>0.0</td>\n",
       "      <td>1</td>\n",
       "      <td>2.0</td>\n",
       "      <td>0.0</td>\n",
       "      <td>17.0</td>\n",
       "      <td>8.0</td>\n",
       "      <td>14.0</td>\n",
       "      <td>4.0</td>\n",
       "      <td>6.0</td>\n",
       "      <td>6.0</td>\n",
       "      <td>13.0</td>\n",
       "      <td>12.0</td>\n",
       "      <td>1.0</td>\n",
       "      <td>2.0</td>\n",
       "      <td>0.0</td>\n",
       "      <td>0.0</td>\n",
       "    </tr>\n",
       "    <tr>\n",
       "      <th>1</th>\n",
       "      <td>19/08/00</td>\n",
       "      <td>Chelsea</td>\n",
       "      <td>West Ham</td>\n",
       "      <td>4.0</td>\n",
       "      <td>2.0</td>\n",
       "      <td>1</td>\n",
       "      <td>1.0</td>\n",
       "      <td>0.0</td>\n",
       "      <td>17.0</td>\n",
       "      <td>12.0</td>\n",
       "      <td>10.0</td>\n",
       "      <td>5.0</td>\n",
       "      <td>7.0</td>\n",
       "      <td>7.0</td>\n",
       "      <td>19.0</td>\n",
       "      <td>14.0</td>\n",
       "      <td>1.0</td>\n",
       "      <td>2.0</td>\n",
       "      <td>0.0</td>\n",
       "      <td>0.0</td>\n",
       "    </tr>\n",
       "    <tr>\n",
       "      <th>2</th>\n",
       "      <td>19/08/00</td>\n",
       "      <td>Coventry</td>\n",
       "      <td>Middlesbrough</td>\n",
       "      <td>1.0</td>\n",
       "      <td>3.0</td>\n",
       "      <td>-1</td>\n",
       "      <td>1.0</td>\n",
       "      <td>1.0</td>\n",
       "      <td>6.0</td>\n",
       "      <td>16.0</td>\n",
       "      <td>3.0</td>\n",
       "      <td>9.0</td>\n",
       "      <td>8.0</td>\n",
       "      <td>4.0</td>\n",
       "      <td>15.0</td>\n",
       "      <td>21.0</td>\n",
       "      <td>5.0</td>\n",
       "      <td>3.0</td>\n",
       "      <td>1.0</td>\n",
       "      <td>0.0</td>\n",
       "    </tr>\n",
       "    <tr>\n",
       "      <th>3</th>\n",
       "      <td>19/08/00</td>\n",
       "      <td>Derby</td>\n",
       "      <td>Southampton</td>\n",
       "      <td>2.0</td>\n",
       "      <td>2.0</td>\n",
       "      <td>0</td>\n",
       "      <td>1.0</td>\n",
       "      <td>2.0</td>\n",
       "      <td>6.0</td>\n",
       "      <td>13.0</td>\n",
       "      <td>4.0</td>\n",
       "      <td>6.0</td>\n",
       "      <td>5.0</td>\n",
       "      <td>8.0</td>\n",
       "      <td>11.0</td>\n",
       "      <td>13.0</td>\n",
       "      <td>1.0</td>\n",
       "      <td>1.0</td>\n",
       "      <td>0.0</td>\n",
       "      <td>0.0</td>\n",
       "    </tr>\n",
       "    <tr>\n",
       "      <th>4</th>\n",
       "      <td>19/08/00</td>\n",
       "      <td>Leeds</td>\n",
       "      <td>Everton</td>\n",
       "      <td>2.0</td>\n",
       "      <td>0.0</td>\n",
       "      <td>1</td>\n",
       "      <td>2.0</td>\n",
       "      <td>0.0</td>\n",
       "      <td>17.0</td>\n",
       "      <td>12.0</td>\n",
       "      <td>8.0</td>\n",
       "      <td>6.0</td>\n",
       "      <td>6.0</td>\n",
       "      <td>4.0</td>\n",
       "      <td>21.0</td>\n",
       "      <td>20.0</td>\n",
       "      <td>1.0</td>\n",
       "      <td>3.0</td>\n",
       "      <td>0.0</td>\n",
       "      <td>0.0</td>\n",
       "    </tr>\n",
       "  </tbody>\n",
       "</table>\n",
       "</div>"
      ],
      "text/plain": [
       "       Date  HomeTeam       AwayTeam  FullTime_HT_Goal  FullTime_AT_Goal  \\\n",
       "0  19/08/00  Charlton       Man City               4.0               0.0   \n",
       "1  19/08/00   Chelsea       West Ham               4.0               2.0   \n",
       "2  19/08/00  Coventry  Middlesbrough               1.0               3.0   \n",
       "3  19/08/00     Derby    Southampton               2.0               2.0   \n",
       "4  19/08/00     Leeds        Everton               2.0               0.0   \n",
       "\n",
       "  FullTime_Res  HalfTime_HT_Goal  HalfTime_AT_Goal  HT_Shots  AT_Shots  \\\n",
       "0            1               2.0               0.0      17.0       8.0   \n",
       "1            1               1.0               0.0      17.0      12.0   \n",
       "2           -1               1.0               1.0       6.0      16.0   \n",
       "3            0               1.0               2.0       6.0      13.0   \n",
       "4            1               2.0               0.0      17.0      12.0   \n",
       "\n",
       "   HT_Shots_Target  AT_Shots_Target  HT_Corner  AT_Corner  HT_Fouls  AT_Fouls  \\\n",
       "0             14.0              4.0        6.0        6.0      13.0      12.0   \n",
       "1             10.0              5.0        7.0        7.0      19.0      14.0   \n",
       "2              3.0              9.0        8.0        4.0      15.0      21.0   \n",
       "3              4.0              6.0        5.0        8.0      11.0      13.0   \n",
       "4              8.0              6.0        6.0        4.0      21.0      20.0   \n",
       "\n",
       "   HT_Yellow_Cards  AT_Yellow_Cards  HT_Red_Cards  AT_Red_Cards  \n",
       "0              1.0              2.0           0.0           0.0  \n",
       "1              1.0              2.0           0.0           0.0  \n",
       "2              5.0              3.0           1.0           0.0  \n",
       "3              1.0              1.0           0.0           0.0  \n",
       "4              1.0              3.0           0.0           0.0  "
      ]
     },
     "execution_count": 26,
     "metadata": {},
     "output_type": "execute_result"
    }
   ],
   "source": [
    "final_data_set.head()"
   ]
  },
  {
   "cell_type": "code",
   "execution_count": 27,
   "metadata": {},
   "outputs": [
    {
     "data": {
      "text/html": [
       "<div>\n",
       "<style scoped>\n",
       "    .dataframe tbody tr th:only-of-type {\n",
       "        vertical-align: middle;\n",
       "    }\n",
       "\n",
       "    .dataframe tbody tr th {\n",
       "        vertical-align: top;\n",
       "    }\n",
       "\n",
       "    .dataframe thead th {\n",
       "        text-align: right;\n",
       "    }\n",
       "</style>\n",
       "<table border=\"1\" class=\"dataframe\">\n",
       "  <thead>\n",
       "    <tr style=\"text-align: right;\">\n",
       "      <th></th>\n",
       "      <th>FullTime_HT_Goal</th>\n",
       "      <th>FullTime_AT_Goal</th>\n",
       "      <th>HT_Shots_Target</th>\n",
       "      <th>AT_Shots_Target</th>\n",
       "      <th>HT_Corner</th>\n",
       "      <th>AT_Corner</th>\n",
       "    </tr>\n",
       "  </thead>\n",
       "  <tbody>\n",
       "    <tr>\n",
       "      <th>0</th>\n",
       "      <td>4.0</td>\n",
       "      <td>0.0</td>\n",
       "      <td>14.0</td>\n",
       "      <td>4.0</td>\n",
       "      <td>6.0</td>\n",
       "      <td>6.0</td>\n",
       "    </tr>\n",
       "    <tr>\n",
       "      <th>1</th>\n",
       "      <td>4.0</td>\n",
       "      <td>2.0</td>\n",
       "      <td>10.0</td>\n",
       "      <td>5.0</td>\n",
       "      <td>7.0</td>\n",
       "      <td>7.0</td>\n",
       "    </tr>\n",
       "    <tr>\n",
       "      <th>2</th>\n",
       "      <td>1.0</td>\n",
       "      <td>3.0</td>\n",
       "      <td>3.0</td>\n",
       "      <td>9.0</td>\n",
       "      <td>8.0</td>\n",
       "      <td>4.0</td>\n",
       "    </tr>\n",
       "    <tr>\n",
       "      <th>3</th>\n",
       "      <td>2.0</td>\n",
       "      <td>2.0</td>\n",
       "      <td>4.0</td>\n",
       "      <td>6.0</td>\n",
       "      <td>5.0</td>\n",
       "      <td>8.0</td>\n",
       "    </tr>\n",
       "    <tr>\n",
       "      <th>4</th>\n",
       "      <td>2.0</td>\n",
       "      <td>0.0</td>\n",
       "      <td>8.0</td>\n",
       "      <td>6.0</td>\n",
       "      <td>6.0</td>\n",
       "      <td>4.0</td>\n",
       "    </tr>\n",
       "  </tbody>\n",
       "</table>\n",
       "</div>"
      ],
      "text/plain": [
       "   FullTime_HT_Goal  FullTime_AT_Goal  HT_Shots_Target  AT_Shots_Target  \\\n",
       "0               4.0               0.0             14.0              4.0   \n",
       "1               4.0               2.0             10.0              5.0   \n",
       "2               1.0               3.0              3.0              9.0   \n",
       "3               2.0               2.0              4.0              6.0   \n",
       "4               2.0               0.0              8.0              6.0   \n",
       "\n",
       "   HT_Corner  AT_Corner  \n",
       "0        6.0        6.0  \n",
       "1        7.0        7.0  \n",
       "2        8.0        4.0  \n",
       "3        5.0        8.0  \n",
       "4        6.0        4.0  "
      ]
     },
     "execution_count": 27,
     "metadata": {},
     "output_type": "execute_result"
    }
   ],
   "source": [
    "X_all.head()"
   ]
  },
  {
   "cell_type": "code",
   "execution_count": 28,
   "metadata": {},
   "outputs": [
    {
     "data": {
      "text/plain": [
       "(18693, 6)"
      ]
     },
     "execution_count": 28,
     "metadata": {},
     "output_type": "execute_result"
    }
   ],
   "source": [
    "X_all.shape"
   ]
  },
  {
   "cell_type": "code",
   "execution_count": 29,
   "metadata": {},
   "outputs": [
    {
     "data": {
      "text/plain": [
       "(18693,)"
      ]
     },
     "execution_count": 29,
     "metadata": {},
     "output_type": "execute_result"
    }
   ],
   "source": [
    "y_all.shape"
   ]
  },
  {
   "cell_type": "code",
   "execution_count": 30,
   "metadata": {},
   "outputs": [
    {
     "name": "stderr",
     "output_type": "stream",
     "text": [
      "<ipython-input-30-73b5d78abdbc>:17: SettingWithCopyWarning: \n",
      "A value is trying to be set on a copy of a slice from a DataFrame.\n",
      "Try using .loc[row_indexer,col_indexer] = value instead\n",
      "\n",
      "See the caveats in the documentation: https://pandas.pydata.org/pandas-docs/stable/user_guide/indexing.html#returning-a-view-versus-a-copy\n",
      "  X_all[col] = scale(X_all[col])\n",
      "<ipython-input-30-73b5d78abdbc>:17: SettingWithCopyWarning: \n",
      "A value is trying to be set on a copy of a slice from a DataFrame.\n",
      "Try using .loc[row_indexer,col_indexer] = value instead\n",
      "\n",
      "See the caveats in the documentation: https://pandas.pydata.org/pandas-docs/stable/user_guide/indexing.html#returning-a-view-versus-a-copy\n",
      "  X_all[col] = scale(X_all[col])\n",
      "<ipython-input-30-73b5d78abdbc>:17: SettingWithCopyWarning: \n",
      "A value is trying to be set on a copy of a slice from a DataFrame.\n",
      "Try using .loc[row_indexer,col_indexer] = value instead\n",
      "\n",
      "See the caveats in the documentation: https://pandas.pydata.org/pandas-docs/stable/user_guide/indexing.html#returning-a-view-versus-a-copy\n",
      "  X_all[col] = scale(X_all[col])\n",
      "<ipython-input-30-73b5d78abdbc>:17: SettingWithCopyWarning: \n",
      "A value is trying to be set on a copy of a slice from a DataFrame.\n",
      "Try using .loc[row_indexer,col_indexer] = value instead\n",
      "\n",
      "See the caveats in the documentation: https://pandas.pydata.org/pandas-docs/stable/user_guide/indexing.html#returning-a-view-versus-a-copy\n",
      "  X_all[col] = scale(X_all[col])\n",
      "<ipython-input-30-73b5d78abdbc>:17: SettingWithCopyWarning: \n",
      "A value is trying to be set on a copy of a slice from a DataFrame.\n",
      "Try using .loc[row_indexer,col_indexer] = value instead\n",
      "\n",
      "See the caveats in the documentation: https://pandas.pydata.org/pandas-docs/stable/user_guide/indexing.html#returning-a-view-versus-a-copy\n",
      "  X_all[col] = scale(X_all[col])\n",
      "<ipython-input-30-73b5d78abdbc>:17: SettingWithCopyWarning: \n",
      "A value is trying to be set on a copy of a slice from a DataFrame.\n",
      "Try using .loc[row_indexer,col_indexer] = value instead\n",
      "\n",
      "See the caveats in the documentation: https://pandas.pydata.org/pandas-docs/stable/user_guide/indexing.html#returning-a-view-versus-a-copy\n",
      "  X_all[col] = scale(X_all[col])\n"
     ]
    }
   ],
   "source": [
    "# Separate into feature set and target variable\n",
    "#FTR = Full Time Result (H=Home Win, D=Draw, A=Away Win)\n",
    "#X_all = final_data.drop(['FTR'],1)\n",
    "#y_all = X_all['FTR']\n",
    "#Z_all = X_all.drop(['Date','HomeTeam','AwayTeam'],1)\n",
    "\n",
    "# print(X_all)\n",
    "# print(y_all)\n",
    "# print(Z_all)\n",
    "\n",
    "# Standardising the data.\n",
    "from sklearn.preprocessing import scale\n",
    "\n",
    "#Center to the mean and component wise scale to unit variance.\n",
    "#cols = [['FTHG','FTAG','HTHG','HTAG','HS','AS','HST','AST','HC','AC']]\n",
    "for col in X_all:\n",
    "    X_all[col] = scale(X_all[col])"
   ]
  },
  {
   "cell_type": "code",
   "execution_count": 31,
   "metadata": {},
   "outputs": [
    {
     "name": "stdout",
     "output_type": "stream",
     "text": [
      "(14954, 6) (14954,)\n",
      "(3739, 6) (3739,)\n"
     ]
    }
   ],
   "source": [
    "from sklearn.model_selection import train_test_split\n",
    "\n",
    "# Shuffle and split the dataset into training and testing set.\n",
    "\n",
    "\n",
    "X_train, X_test, y_train, y_test = train_test_split(X_all, y_all, test_size = .2,random_state=42)\n",
    "print(X_train.shape, y_train.shape)\n",
    "print(X_test.shape, y_test.shape)"
   ]
  },
  {
   "cell_type": "code",
   "execution_count": 32,
   "metadata": {},
   "outputs": [],
   "source": [
    "#for measuring training time\n",
    "from time import time \n",
    "# F1 score (also F-score or F-measure) is a measure of a test's accuracy. \n",
    "#It considers both the precision p and the recall r of the test to compute \n",
    "#the score: p is the number of correct positive results divided by the number of \n",
    "#all positive results, and r is the number of correct positive results divided by \n",
    "#the number of positive results that should have been returned. The F1 score can be \n",
    "#interpreted as a weighted average of the precision and recall, where an F1 score \n",
    "#reaches its best value at 1 and worst at 0.\n",
    "from sklearn.metrics import f1_score\n",
    "\n",
    "def train_classifier(clf, X_train, y_train):\n",
    "    ''' Fits a classifier to the training data. '''\n",
    "    \n",
    "    # Start the clock, train the classifier, then stop the clock\n",
    "    start = time()\n",
    "    clf.fit(X_train, y_train)\n",
    "    end = time()\n",
    "    \n",
    "    # Print the results\n",
    "    print (\"Trained model in {:.4f} seconds\".format(end - start))\n",
    "\n",
    "    \n",
    "def predict_labels(clf, features, target):\n",
    "    ''' Makes predictions using a fit classifier based on F1 score. '''\n",
    "    \n",
    "    # Start the clock, make predictions, then stop the clock\n",
    "    start = time()\n",
    "    y_pred = clf.predict(features)\n",
    "    \n",
    "    end = time()\n",
    "    # Print and return results\n",
    "    print (\"Made predictions in {:.4f} seconds.\".format(end - start))\n",
    "    \n",
    "    return f1_score(target, y_pred, average='macro'), sum(target == y_pred) / float(len(y_pred))\n",
    "\n",
    "\n",
    "def train_predict(clf, X_train, y_train, X_test, y_test):\n",
    "    ''' Train and predict using a classifer based on F1 score. '''\n",
    "    \n",
    "    # Indicate the classifier and the training set size\n",
    "    print (\"Training a {} using a training set size of {}. . .\".format(clf.__class__.__name__, len(X_train)))\n",
    "    \n",
    "    # Train the classifier\n",
    "    train_classifier(clf, X_train, y_train)\n",
    "    \n",
    "    # Print the results of prediction for both training and testing\n",
    "    f1, acc = predict_labels(clf, X_train, y_train)\n",
    "    print (f1, acc)\n",
    "    print (\"F1 score and accuracy score for training set: {:.4f} , {:.4f}.\".format(f1 , acc))\n",
    "    \n",
    "    f1, acc = predict_labels(clf, X_test, y_test)\n",
    "    print (\"F1 score and accuracy score for test set: {:.4f} , {:.4f}.\".format(f1 , acc))"
   ]
  },
  {
   "cell_type": "code",
   "execution_count": 33,
   "metadata": {
    "scrolled": true
   },
   "outputs": [
    {
     "name": "stdout",
     "output_type": "stream",
     "text": [
      "Training a LogisticRegression using a training set size of 14954. . .\n",
      "Trained model in 0.3261 seconds\n",
      "Made predictions in 0.0030 seconds.\n",
      "1.0 1.0\n",
      "F1 score and accuracy score for training set: 1.0000 , 1.0000.\n",
      "Made predictions in 0.0010 seconds.\n",
      "F1 score and accuracy score for test set: 1.0000 , 1.0000.\n",
      "\n",
      "Training a SVC using a training set size of 14954. . .\n",
      "Trained model in 0.7546 seconds\n",
      "Made predictions in 0.3026 seconds.\n",
      "1.0 1.0\n",
      "F1 score and accuracy score for training set: 1.0000 , 1.0000.\n",
      "Made predictions in 0.0718 seconds.\n",
      "F1 score and accuracy score for test set: 1.0000 , 1.0000.\n",
      "\n",
      "Training a XGBClassifier using a training set size of 14954. . .\n",
      "Trained model in 0.7260 seconds\n",
      "Made predictions in 0.0269 seconds.\n",
      "1.0 1.0\n",
      "F1 score and accuracy score for training set: 1.0000 , 1.0000.\n",
      "Made predictions in 0.0070 seconds.\n",
      "F1 score and accuracy score for test set: 1.0000 , 1.0000.\n",
      "\n"
     ]
    }
   ],
   "source": [
    "import xgboost as xgb\n",
    "# Initialize the three models (XGBoost is initialized later)\n",
    "clf_A = LogisticRegression(random_state = 42)\n",
    "clf_B = SVC(random_state = 912, kernel='rbf')\n",
    "#Boosting refers to this general problem of producing a very accurate prediction rule \n",
    "#by combining rough and moderately inaccurate rules-of-thumb\n",
    "\n",
    "clf_C = xgb.XGBClassifier(seed = 82)\n",
    "\n",
    "train_predict(clf_A, X_train, y_train, X_test, y_test)\n",
    "print('')\n",
    "train_predict(clf_B, X_train, y_train, X_test, y_test)\n",
    "print('')\n",
    "train_predict(clf_C, X_train, y_train, X_test, y_test)\n",
    "print('')"
   ]
  },
  {
   "cell_type": "code",
   "execution_count": 34,
   "metadata": {},
   "outputs": [
    {
     "data": {
      "text/plain": [
       "LogisticRegression(C=1.0, class_weight=None, dual=False, fit_intercept=True,\n",
       "                   intercept_scaling=1, l1_ratio=None, max_iter=100,\n",
       "                   multi_class='auto', n_jobs=None, penalty='l2',\n",
       "                   random_state=None, solver='lbfgs', tol=0.0001, verbose=0,\n",
       "                   warm_start=False)"
      ]
     },
     "execution_count": 34,
     "metadata": {},
     "output_type": "execute_result"
    }
   ],
   "source": [
    "model = LogisticRegression()\n",
    "model.fit(X_train, y_train)"
   ]
  },
  {
   "cell_type": "code",
   "execution_count": 35,
   "metadata": {},
   "outputs": [
    {
     "name": "stdout",
     "output_type": "stream",
     "text": [
      "Score 0.7313400707497706\n"
     ]
    },
    {
     "data": {
      "image/png": "[encoded data removed]",
      "text/plain": [
       "<Figure size 432x288 with 1 Axes>"
      ]
     },
     "metadata": {
      "needs_background": "light"
     },
     "output_type": "display_data"
    }
   ],
   "source": [
    "# fit a model  ###########   Linear Regression Starts\n",
    "lm = LinearRegression()\n",
    "model = lm.fit(X_train, y_train)\n",
    "predictions = lm.predict(X_test)\n",
    "predictions[0:5]\n",
    "## The line / model\n",
    "plt.scatter(y_test, predictions)\n",
    "plt.xlabel(\"True_Values\")\n",
    "plt.ylabel(\"Predictions\")\n",
    "print(\"Score\", model.score(X_test, y_test))"
   ]
  },
  {
   "cell_type": "code",
   "execution_count": 36,
   "metadata": {},
   "outputs": [
    {
     "name": "stdout",
     "output_type": "stream",
     "text": [
      "Training a XGBClassifier using a training set size of 14954. . .\n",
      "Trained model in 0.8227 seconds\n",
      "Made predictions in 0.0220 seconds.\n",
      "0.9982844155525202 0.9985288217199412\n",
      "F1 score and accuracy score for training set: 0.9983 , 0.9985.\n",
      "Made predictions in 0.0050 seconds.\n",
      "F1 score and accuracy score for test set: 0.9971 , 0.9976.\n",
      "\n"
     ]
    }
   ],
   "source": [
    "xg_reg = xgb.XGBClassifier(objective='binary:logistic',seed=82, \n",
    "                               alpha = 10, learning_rate = 0.01,\n",
    "                                n_estimators=100,\n",
    "                          )\n",
    "\n",
    "train_predict(xg_reg, X_train, y_train, X_test, y_test)\n",
    "print('')"
   ]
  },
  {
   "cell_type": "code",
   "execution_count": 37,
   "metadata": {},
   "outputs": [],
   "source": [
    "# instantiate the model (using the default parameters)\n",
    "logreg = LogisticRegression()\n",
    "\n",
    "# fit the model with data\n",
    "logreg.fit(X_train,y_train)\n",
    "\n",
    "#\n",
    "y_pred=logreg.predict(X_test)"
   ]
  },
  {
   "cell_type": "code",
   "execution_count": 38,
   "metadata": {},
   "outputs": [
    {
     "data": {
      "text/plain": [
       "1.0"
      ]
     },
     "execution_count": 38,
     "metadata": {},
     "output_type": "execute_result"
    }
   ],
   "source": [
    "logreg.score(X_train,y_train)"
   ]
  },
  {
   "cell_type": "code",
   "execution_count": 39,
   "metadata": {},
   "outputs": [
    {
     "name": "stdout",
     "output_type": "stream",
     "text": [
      "[[1026    0    0]\n",
      " [   0  970    0]\n",
      " [   0    0 1743]]\n",
      "\n",
      "\n",
      "              precision    recall  f1-score   support\n",
      "\n",
      "          -1       1.00      1.00      1.00      1026\n",
      "           0       1.00      1.00      1.00       970\n",
      "           1       1.00      1.00      1.00      1743\n",
      "\n",
      "    accuracy                           1.00      3739\n",
      "   macro avg       1.00      1.00      1.00      3739\n",
      "weighted avg       1.00      1.00      1.00      3739\n",
      "\n",
      "Training set score for Logistic Regression: 1.000000\n",
      "Testing set score for Logistic Regression: 1.000000\n"
     ]
    }
   ],
   "source": [
    "from sklearn.metrics import confusion_matrix, classification_report\n",
    "\n",
    "print(confusion_matrix(y_test,y_pred))\n",
    "print(\"\\n\")\n",
    "print(classification_report(y_test,y_pred))\n",
    "\n",
    "\n",
    "print(\"Training set score for Logistic Regression: %f\" % logreg.score(X_train,y_train))\n",
    "print(\"Testing set score for Logistic Regression: %f\" % logreg.score(X_test,y_test))"
   ]
  },
  {
   "cell_type": "code",
   "execution_count": 40,
   "metadata": {},
   "outputs": [],
   "source": [
    "from sklearn.naive_bayes import MultinomialNB\n",
    "from sklearn.model_selection import cross_val_score\n",
    "from sklearn.linear_model import LogisticRegression\n",
    "import matplotlib.pyplot as plt\n",
    "%matplotlib inline  \n",
    "from sklearn.svm import SVC\n",
    "from sklearn import linear_model"
   ]
  },
  {
   "cell_type": "code",
   "execution_count": 41,
   "metadata": {},
   "outputs": [],
   "source": [
    "#Libraries to Build Ensemble Model : Random Forest Classifier \n",
    "# Create the parameter grid based on the results of random search \n",
    "params_grid = [{'kernel': ['rbf'], 'gamma': [1e-3, 1e-4],\n",
    "                     'C': [1, 10, 100, 1000]},\n",
    "                    {'kernel': ['linear'], 'C': [1, 10, 100, 1000]}]"
   ]
  },
  {
   "cell_type": "code",
   "execution_count": 42,
   "metadata": {},
   "outputs": [],
   "source": [
    "# Import train_test_split function\n",
    "from sklearn.model_selection import train_test_split\n",
    "\n",
    "# Split dataset into training set and test set\n",
    "X_train, X_test, y_train, y_test = train_test_split(X_train, y_train, test_size=0.2,random_state=109) # 70% training and 30% test"
   ]
  },
  {
   "cell_type": "code",
   "execution_count": 43,
   "metadata": {},
   "outputs": [
    {
     "data": {
      "text/plain": [
       "GridSearchCV(cv=5, error_score=nan,\n",
       "             estimator=SVC(C=1.0, break_ties=False, cache_size=200,\n",
       "                           class_weight=None, coef0=0.0,\n",
       "                           decision_function_shape='ovr', degree=3,\n",
       "                           gamma='scale', kernel='rbf', max_iter=-1,\n",
       "                           probability=False, random_state=None, shrinking=True,\n",
       "                           tol=0.001, verbose=False),\n",
       "             iid='deprecated', n_jobs=None,\n",
       "             param_grid=[{'C': [1, 10, 100, 1000], 'gamma': [0.001, 0.0001],\n",
       "                          'kernel': ['rbf']},\n",
       "                         {'C': [1, 10, 100, 1000], 'kernel': ['linear']}],\n",
       "             pre_dispatch='2*n_jobs', refit=True, return_train_score=False,\n",
       "             scoring=None, verbose=0)"
      ]
     },
     "execution_count": 43,
     "metadata": {},
     "output_type": "execute_result"
    }
   ],
   "source": [
    "from sklearn.svm import SVC\n",
    "from sklearn.model_selection import cross_val_score, GridSearchCV\n",
    "\n",
    "# Performing CV to tune parameters for best SVM fit \n",
    "svm_model = GridSearchCV(SVC(), params_grid, cv=5)\n",
    "svm_model.fit(X_train, y_train)"
   ]
  },
  {
   "cell_type": "code",
   "execution_count": 44,
   "metadata": {},
   "outputs": [
    {
     "name": "stdout",
     "output_type": "stream",
     "text": [
      "Best score for training data: 1.0 \n",
      "\n",
      "Best C: 1 \n",
      "\n",
      "Best Kernel: rbf \n",
      "\n",
      "Best Gamma: 0.001 \n",
      "\n"
     ]
    }
   ],
   "source": [
    "# View the accuracy score\n",
    "print('Best score for training data:', svm_model.best_score_,\"\\n\") \n",
    "\n",
    "# View the best parameters for the model found using grid search  \n",
    "print('Best C:',svm_model.best_estimator_.C,\"\\n\") \n",
    "print('Best Kernel:',svm_model.best_estimator_.kernel,\"\\n\")\n",
    "print('Best Gamma:',svm_model.best_estimator_.gamma,\"\\n\")\n",
    "\n",
    "final_model = svm_model.best_estimator_\n",
    "y_pred = final_model.predict(X_test)"
   ]
  },
  {
   "cell_type": "code",
   "execution_count": 45,
   "metadata": {},
   "outputs": [
    {
     "name": "stdout",
     "output_type": "stream",
     "text": [
      "Best score for training data: 1.0 \n",
      "\n",
      "Best C: 1 \n",
      "\n",
      "Best Kernel: rbf \n",
      "\n",
      "Best Gamma: 0.001 \n",
      "\n"
     ]
    }
   ],
   "source": [
    "# View the accuracy score\n",
    "print('Best score for training data:', svm_model.best_score_,\"\\n\") \n",
    "\n",
    "# View the best parameters for the model found using grid search  \n",
    "print('Best C:',svm_model.best_estimator_.C,\"\\n\") \n",
    "print('Best Kernel:',svm_model.best_estimator_.kernel,\"\\n\")\n",
    "print('Best Gamma:',svm_model.best_estimator_.gamma,\"\\n\")\n",
    "\n",
    "final_model = svm_model.best_estimator_\n",
    "y_pred = final_model.predict(X_test)"
   ]
  },
  {
   "cell_type": "code",
   "execution_count": 46,
   "metadata": {},
   "outputs": [
    {
     "name": "stdout",
     "output_type": "stream",
     "text": [
      "[[ 833    0    0]\n",
      " [   0  792    0]\n",
      " [   0    0 1366]]\n",
      "\n",
      "\n",
      "              precision    recall  f1-score   support\n",
      "\n",
      "          -1       1.00      1.00      1.00       833\n",
      "           0       1.00      1.00      1.00       792\n",
      "           1       1.00      1.00      1.00      1366\n",
      "\n",
      "    accuracy                           1.00      2991\n",
      "   macro avg       1.00      1.00      1.00      2991\n",
      "weighted avg       1.00      1.00      1.00      2991\n",
      "\n",
      "Training set score for SVM: 1.000000\n",
      "Testing  set score for SVM: 1.000000\n"
     ]
    },
    {
     "data": {
      "text/plain": [
       "<bound method BaseSearchCV.score of GridSearchCV(cv=5, error_score=nan,\n",
       "             estimator=SVC(C=1.0, break_ties=False, cache_size=200,\n",
       "                           class_weight=None, coef0=0.0,\n",
       "                           decision_function_shape='ovr', degree=3,\n",
       "                           gamma='scale', kernel='rbf', max_iter=-1,\n",
       "                           probability=False, random_state=None, shrinking=True,\n",
       "                           tol=0.001, verbose=False),\n",
       "             iid='deprecated', n_jobs=None,\n",
       "             param_grid=[{'C': [1, 10, 100, 1000], 'gamma': [0.001, 0.0001],\n",
       "                          'kernel': ['rbf']},\n",
       "                         {'C': [1, 10, 100, 1000], 'kernel': ['linear']}],\n",
       "             pre_dispatch='2*n_jobs', refit=True, return_train_score=False,\n",
       "             scoring=None, verbose=0)>"
      ]
     },
     "execution_count": 46,
     "metadata": {},
     "output_type": "execute_result"
    }
   ],
   "source": [
    "from sklearn.metrics import confusion_matrix,classification_report\n",
    "\n",
    "# Making the Confusion Matrix\n",
    "#print(pd.crosstab(Y_test_label, Y_pred_label, rownames=['Actual Activity'], colnames=['Predicted Activity']))\n",
    "print(confusion_matrix(y_test,y_pred))\n",
    "print(\"\\n\")\n",
    "print(classification_report(y_test,y_pred))\n",
    "\n",
    "print(\"Training set score for SVM: %f\" % final_model.score(X_train, y_train))\n",
    "print(\"Testing  set score for SVM: %f\" % final_model.score(X_test, y_test ))\n",
    "\n",
    "svm_model.score"
   ]
  },
  {
   "cell_type": "code",
   "execution_count": 47,
   "metadata": {},
   "outputs": [],
   "source": [
    "# Feature Extraction with RFE\n",
    "from sklearn.feature_selection import RFE\n",
    "from sklearn.feature_selection import RFECV\n",
    "from sklearn.linear_model import LogisticRegression\n",
    "import warnings\n",
    "warnings.filterwarnings(\"ignore\")"
   ]
  },
  {
   "cell_type": "code",
   "execution_count": 48,
   "metadata": {},
   "outputs": [],
   "source": [
    "X_columns = ['FullTime_HT_Goal','FullTime_AT_Goal','HalfTime_HT_Goal','HalfTime_AT_Goal','HT_Shots','AT_Shots','HT_Shots_Target','AT_Shots_Target','HT_Corner','AT_Corner','HT_Fouls','AT_Fouls','HT_Yellow_Cards','AT_Yellow_Cards','HT_Red_Cards','AT_Red_Cards']\n",
    "Y_columns = ['FullTime_Res']\n",
    "\n",
    "XX = final_data_set[X_columns]\n",
    "YY = final_data_set[Y_columns]\n"
   ]
  },
  {
   "cell_type": "code",
   "execution_count": 49,
   "metadata": {},
   "outputs": [
    {
     "name": "stdout",
     "output_type": "stream",
     "text": [
      "4\n",
      "[ True  True  True  True False False False False False False False False\n",
      " False False False False]\n",
      "[1 1 1 1 2 3 2 2 3 2 3 3 3 3 2 2]\n",
      " \n",
      "        Ranking             Feature Name\n",
      "0       1                   FullTime_HT_Goal\n",
      "1       1                   FullTime_AT_Goal\n",
      "2       1                   HalfTime_HT_Goal\n",
      "3       1                   HalfTime_AT_Goal\n",
      "4       2                   HT_Shots\n",
      "5       3                   AT_Shots\n",
      "6       2                   HT_Shots_Target\n",
      "7       2                   AT_Shots_Target\n",
      "8       3                   HT_Corner\n",
      "9       2                   AT_Corner\n",
      "10      3                   HT_Fouls\n",
      "11      3                   AT_Fouls\n",
      "12      3                   HT_Yellow_Cards\n",
      "13      3                   AT_Yellow_Cards\n",
      "14      2                   HT_Red_Cards\n",
      "15      2                   AT_Red_Cards\n"
     ]
    }
   ],
   "source": [
    "#array = final_data.values\n",
    "#names = list(feature_selection.columns.values)\n",
    "XX = XX\n",
    "YY = YY\n",
    "model = LogisticRegression()\n",
    "rfecv = RFECV(model, 6)\n",
    "fit = rfecv.fit(XX, YY) \n",
    "#names=list(feature_selection)\n",
    "#names.remove('FTHG')\n",
    "#names.remove('FTAG')\n",
    "#names.remove('Result')\n",
    "print(fit.n_features_)\n",
    "print(fit.support_)\n",
    "print(fit.ranking_)\n",
    "\n",
    "\n",
    "fmt = '{:<8}{:<20}{}'\n",
    "\n",
    "print(' ')\n",
    "print(fmt.format('', 'Ranking', 'Feature Name'))\n",
    "for i, (name, grade) in enumerate(zip(rfecv.ranking_, X_columns)):\n",
    "    print(fmt.format(i, name, grade))\n",
    "    "
   ]
  },
  {
   "cell_type": "code",
   "execution_count": 50,
   "metadata": {},
   "outputs": [
    {
     "name": "stdout",
     "output_type": "stream",
     "text": [
      "(14954, 6) (14954,)\n",
      "(3739, 6) (3739,)\n"
     ]
    }
   ],
   "source": [
    "# Shuffle and split the dataset into training and testing set.\n",
    "\n",
    "\n",
    "X_train, X_test, y_train, y_test = train_test_split(X_all, y_all, test_size = .2,random_state=42)\n",
    "print(X_train.shape, y_train.shape)\n",
    "print(X_test.shape, y_test.shape)"
   ]
  },
  {
   "cell_type": "code",
   "execution_count": 58,
   "metadata": {},
   "outputs": [
    {
     "name": "stdout",
     "output_type": "stream",
     "text": [
      "The mean accuracy and the standard deviation of LogisticRegression: 1.000000 (0.000000)\n",
      "The mean accuracy and the standard deviation of LinearDiscriminantAnalysis:LDA: 0.916012 (0.005750)\n",
      "The mean accuracy and the standard deviation of KNeighborsClassifier:KNN: 0.986575 (0.010067)\n",
      "The mean accuracy and the standard deviation of DecisionTreeClassifier:CART: 1.000000 (0.000000)\n",
      "The mean accuracy and the standard deviation of GaussianNB:NB: 0.812342 (0.025740)\n",
      "The mean accuracy and the standard deviation of GaussianNB:SVM: 0.999840 (0.000245)\n",
      " \n",
      "\n",
      "\n"
     ]
    },
    {
     "data": {
      "image/png": "[encoded data removed]",
      "text/plain": [
       "<Figure size 432x288 with 1 Axes>"
      ]
     },
     "metadata": {
      "needs_background": "light"
     },
     "output_type": "display_data"
    }
   ],
   "source": [
    "X = X_all\n",
    "Y = y_all\n",
    "# prepare configuration for cross validation test harness\n",
    "seed = 7\n",
    "# prepare models\n",
    "models = []\n",
    "models.append(('The mean accuracy and the standard deviation of LogisticRegression', LogisticRegression()))\n",
    "models.append(('The mean accuracy and the standard deviation of LinearDiscriminantAnalysis:LDA', LinearDiscriminantAnalysis()))\n",
    "models.append(('The mean accuracy and the standard deviation of KNeighborsClassifier:KNN', KNeighborsClassifier()))\n",
    "models.append(('The mean accuracy and the standard deviation of DecisionTreeClassifier:CART', DecisionTreeClassifier()))\n",
    "models.append(('The mean accuracy and the standard deviation of GaussianNB:NB', GaussianNB()))\n",
    "models.append(('The mean accuracy and the standard deviation of GaussianNB:SVM', SVC()))\n",
    "# evaluate each model in turn\n",
    "results = []\n",
    "names = []\n",
    "scoring = 'accuracy'\n",
    "for name, model in models:\n",
    "\tkfold = model_selection.KFold(n_splits=10, random_state=seed)\n",
    "\tcv_results = model_selection.cross_val_score(model, X, Y, cv=kfold, scoring=scoring)\n",
    "\tresults.append(cv_results)\n",
    "\tnames.append(name)\n",
    "\tmsg = \"%s: %f (%f)\" % (name, cv_results.mean(), cv_results.std())\n",
    "\tprint(msg)\n",
    "# boxplot algorithm comparison\n",
    "\n",
    "print(' \\n\\n')\n",
    "fig = plt.figure()\n",
    "fig.suptitle('          Algorithm Comparison           ')\n",
    "ax = fig.add_subplot(111)\n",
    "plt.boxplot(results)\n",
    "ax.set_xticklabels(names)\n",
    "\n",
    "plt.show()\n"
   ]
  },
  {
   "cell_type": "code",
   "execution_count": null,
   "metadata": {},
   "outputs": [],
   "source": []
  },
  {
   "cell_type": "code",
   "execution_count": null,
   "metadata": {},
   "outputs": [],
   "source": []
  }
 ],
 "metadata": {
  "kernelspec": {
   "display_name": "Python 3",
   "language": "python",
   "name": "python3"
  },
  "language_info": {
   "codemirror_mode": {
    "name": "ipython",
    "version": 3
   },
   "file_extension": ".py",
   "mimetype": "text/x-python",
   "name": "python",
   "nbconvert_exporter": "python",
   "pygments_lexer": "ipython3",
   "version": "3.8.1"
  }
 },
 "nbformat": 4,
 "nbformat_minor": 2
}
